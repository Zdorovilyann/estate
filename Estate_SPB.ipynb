{
  "nbformat": 4,
  "nbformat_minor": 0,
  "metadata": {
    "colab": {
      "provenance": []
    },
    "kernelspec": {
      "name": "python3",
      "display_name": "Python 3"
    },
    "language_info": {
      "name": "python"
    }
  },
  "cells": [
    {
      "cell_type": "code",
      "source": [
        "import seaborn as sns\n",
        "import numpy as np\n",
        "import matplotlib.pyplot as plt"
      ],
      "metadata": {
        "id": "ogswAVRbAnLv"
      },
      "execution_count": null,
      "outputs": []
    },
    {
      "cell_type": "code",
      "execution_count": null,
      "metadata": {
        "id": "KSPuy2gM2Uz8"
      },
      "outputs": [],
      "source": [
        "import pandas as pd\n",
        "df =pd.read_csv('real_estate_data.csv', sep='\\t')"
      ]
    },
    {
      "cell_type": "markdown",
      "source": [
        "#Предобработка данных\n",
        "Ниже будет представлен блок, отведённый под анализ столбцов, в которых есть пропуски."
      ],
      "metadata": {
        "id": "sN72n-C94k2I"
      }
    },
    {
      "cell_type": "code",
      "source": [
        "df.info()"
      ],
      "metadata": {
        "colab": {
          "base_uri": "https://localhost:8080/"
        },
        "id": "ZHr-_aIu26Db",
        "outputId": "0de925a7-a7e9-49fe-c369-1eb61ca7903f"
      },
      "execution_count": null,
      "outputs": [
        {
          "output_type": "stream",
          "name": "stdout",
          "text": [
            "<class 'pandas.core.frame.DataFrame'>\n",
            "RangeIndex: 23699 entries, 0 to 23698\n",
            "Data columns (total 22 columns):\n",
            " #   Column                Non-Null Count  Dtype  \n",
            "---  ------                --------------  -----  \n",
            " 0   total_images          23699 non-null  int64  \n",
            " 1   last_price            23699 non-null  float64\n",
            " 2   total_area            23699 non-null  float64\n",
            " 3   first_day_exposition  23699 non-null  object \n",
            " 4   rooms                 23699 non-null  int64  \n",
            " 5   ceiling_height        14504 non-null  float64\n",
            " 6   floors_total          23613 non-null  float64\n",
            " 7   living_area           21796 non-null  float64\n",
            " 8   floor                 23699 non-null  int64  \n",
            " 9   is_apartment          2775 non-null   object \n",
            " 10  studio                23699 non-null  bool   \n",
            " 11  open_plan             23699 non-null  bool   \n",
            " 12  kitchen_area          21421 non-null  float64\n",
            " 13  balcony               12180 non-null  float64\n",
            " 14  locality_name         23650 non-null  object \n",
            " 15  airports_nearest      18157 non-null  float64\n",
            " 16  cityCenters_nearest   18180 non-null  float64\n",
            " 17  parks_around3000      18181 non-null  float64\n",
            " 18  parks_nearest         8079 non-null   float64\n",
            " 19  ponds_around3000      18181 non-null  float64\n",
            " 20  ponds_nearest         9110 non-null   float64\n",
            " 21  days_exposition       20518 non-null  float64\n",
            "dtypes: bool(2), float64(14), int64(3), object(3)\n",
            "memory usage: 3.7+ MB\n"
          ]
        }
      ]
    },
    {
      "cell_type": "markdown",
      "source": [
        "## Определить, в каких столбцах есть пропуски\n",
        "По результатм анализа исходного датасета наблюдаем, что среди 22-х столбцов пропуски имеются в 14-ти столбцах:\n",
        "\n",
        "\n",
        "*   ceiling_height\n",
        "*   floors_total\n",
        "*   living_area\n",
        "*   is_apartment\n",
        "*   kitchen_area\n",
        "*   balcony\n",
        "*   locality_name\n",
        "*   airports_nearest\n",
        "*   cityCenters_nearest\n",
        "*   parks_around3000\n",
        "*   parks_nearest\n",
        "*   ponds_around3000\n",
        "*   ponds_nearest\n",
        "*   days_exposition\n",
        "\n",
        "\n"
      ],
      "metadata": {
        "id": "33simBqalzSS"
      }
    },
    {
      "cell_type": "markdown",
      "source": [
        "## Заполнение пропусков"
      ],
      "metadata": {
        "id": "WH9rFi9cvYox"
      }
    },
    {
      "cell_type": "markdown",
      "source": [
        "Пропуски в данных о высоте потолков целесообразно заменить на среднее значение, так как заявлять ноль как высоту потолков - нелогично. Среднее значение будем высчитывать среди квартир с тем же числом комнат, что и в пропусках, дабы приблизить схожесть результатов."
      ],
      "metadata": {
        "id": "HH94VrixB8sr"
      }
    },
    {
      "cell_type": "code",
      "source": [
        "mean_hight = df.groupby(['rooms'])['ceiling_height'].mean()\n",
        "for i in mean_hight.index:\n",
        "  df.loc[(df['ceiling_height'].isna()) & (df['rooms'] == i), 'ceiling_height'] = df.loc[(df['ceiling_height'].isna()) & (df['rooms'] == i), 'ceiling_height'].fillna(round(mean_hight[i],2))"
      ],
      "metadata": {
        "id": "Us4q5XVrw3WU"
      },
      "execution_count": null,
      "outputs": []
    },
    {
      "cell_type": "markdown",
      "source": [
        "Проведём обработку общего числа этажей в квартирах."
      ],
      "metadata": {
        "id": "LHOY2GAZDEXS"
      }
    },
    {
      "cell_type": "code",
      "source": [
        "ceiling_medians = df.pivot_table(index='floors_total', values='ceiling_height', aggfunc=['median', 'count'])\n",
        "ceiling_medians.columns = ['median', 'count']\n",
        "ceiling_medians.head()"
      ],
      "metadata": {
        "colab": {
          "base_uri": "https://localhost:8080/",
          "height": 238
        },
        "id": "F9Hgw7h7ABqu",
        "outputId": "ec009483-fed3-4e33-9393-3d0ce5d25c38"
      },
      "execution_count": null,
      "outputs": [
        {
          "output_type": "execute_result",
          "data": {
            "text/plain": [
              "              median  count\n",
              "floors_total               \n",
              "1.0             2.76     25\n",
              "2.0             2.76    383\n",
              "3.0             2.76    668\n",
              "4.0             2.77   1200\n",
              "5.0             2.72   5787"
            ],
            "text/html": [
              "\n",
              "  <div id=\"df-5adec236-fa60-482f-b217-a7987c9ec57d\">\n",
              "    <div class=\"colab-df-container\">\n",
              "      <div>\n",
              "<style scoped>\n",
              "    .dataframe tbody tr th:only-of-type {\n",
              "        vertical-align: middle;\n",
              "    }\n",
              "\n",
              "    .dataframe tbody tr th {\n",
              "        vertical-align: top;\n",
              "    }\n",
              "\n",
              "    .dataframe thead th {\n",
              "        text-align: right;\n",
              "    }\n",
              "</style>\n",
              "<table border=\"1\" class=\"dataframe\">\n",
              "  <thead>\n",
              "    <tr style=\"text-align: right;\">\n",
              "      <th></th>\n",
              "      <th>median</th>\n",
              "      <th>count</th>\n",
              "    </tr>\n",
              "    <tr>\n",
              "      <th>floors_total</th>\n",
              "      <th></th>\n",
              "      <th></th>\n",
              "    </tr>\n",
              "  </thead>\n",
              "  <tbody>\n",
              "    <tr>\n",
              "      <th>1.0</th>\n",
              "      <td>2.76</td>\n",
              "      <td>25</td>\n",
              "    </tr>\n",
              "    <tr>\n",
              "      <th>2.0</th>\n",
              "      <td>2.76</td>\n",
              "      <td>383</td>\n",
              "    </tr>\n",
              "    <tr>\n",
              "      <th>3.0</th>\n",
              "      <td>2.76</td>\n",
              "      <td>668</td>\n",
              "    </tr>\n",
              "    <tr>\n",
              "      <th>4.0</th>\n",
              "      <td>2.77</td>\n",
              "      <td>1200</td>\n",
              "    </tr>\n",
              "    <tr>\n",
              "      <th>5.0</th>\n",
              "      <td>2.72</td>\n",
              "      <td>5787</td>\n",
              "    </tr>\n",
              "  </tbody>\n",
              "</table>\n",
              "</div>\n",
              "      <button class=\"colab-df-convert\" onclick=\"convertToInteractive('df-5adec236-fa60-482f-b217-a7987c9ec57d')\"\n",
              "              title=\"Convert this dataframe to an interactive table.\"\n",
              "              style=\"display:none;\">\n",
              "        \n",
              "  <svg xmlns=\"http://www.w3.org/2000/svg\" height=\"24px\"viewBox=\"0 0 24 24\"\n",
              "       width=\"24px\">\n",
              "    <path d=\"M0 0h24v24H0V0z\" fill=\"none\"/>\n",
              "    <path d=\"M18.56 5.44l.94 2.06.94-2.06 2.06-.94-2.06-.94-.94-2.06-.94 2.06-2.06.94zm-11 1L8.5 8.5l.94-2.06 2.06-.94-2.06-.94L8.5 2.5l-.94 2.06-2.06.94zm10 10l.94 2.06.94-2.06 2.06-.94-2.06-.94-.94-2.06-.94 2.06-2.06.94z\"/><path d=\"M17.41 7.96l-1.37-1.37c-.4-.4-.92-.59-1.43-.59-.52 0-1.04.2-1.43.59L10.3 9.45l-7.72 7.72c-.78.78-.78 2.05 0 2.83L4 21.41c.39.39.9.59 1.41.59.51 0 1.02-.2 1.41-.59l7.78-7.78 2.81-2.81c.8-.78.8-2.07 0-2.86zM5.41 20L4 18.59l7.72-7.72 1.47 1.35L5.41 20z\"/>\n",
              "  </svg>\n",
              "      </button>\n",
              "      \n",
              "  <style>\n",
              "    .colab-df-container {\n",
              "      display:flex;\n",
              "      flex-wrap:wrap;\n",
              "      gap: 12px;\n",
              "    }\n",
              "\n",
              "    .colab-df-convert {\n",
              "      background-color: #E8F0FE;\n",
              "      border: none;\n",
              "      border-radius: 50%;\n",
              "      cursor: pointer;\n",
              "      display: none;\n",
              "      fill: #1967D2;\n",
              "      height: 32px;\n",
              "      padding: 0 0 0 0;\n",
              "      width: 32px;\n",
              "    }\n",
              "\n",
              "    .colab-df-convert:hover {\n",
              "      background-color: #E2EBFA;\n",
              "      box-shadow: 0px 1px 2px rgba(60, 64, 67, 0.3), 0px 1px 3px 1px rgba(60, 64, 67, 0.15);\n",
              "      fill: #174EA6;\n",
              "    }\n",
              "\n",
              "    [theme=dark] .colab-df-convert {\n",
              "      background-color: #3B4455;\n",
              "      fill: #D2E3FC;\n",
              "    }\n",
              "\n",
              "    [theme=dark] .colab-df-convert:hover {\n",
              "      background-color: #434B5C;\n",
              "      box-shadow: 0px 1px 3px 1px rgba(0, 0, 0, 0.15);\n",
              "      filter: drop-shadow(0px 1px 2px rgba(0, 0, 0, 0.3));\n",
              "      fill: #FFFFFF;\n",
              "    }\n",
              "  </style>\n",
              "\n",
              "      <script>\n",
              "        const buttonEl =\n",
              "          document.querySelector('#df-5adec236-fa60-482f-b217-a7987c9ec57d button.colab-df-convert');\n",
              "        buttonEl.style.display =\n",
              "          google.colab.kernel.accessAllowed ? 'block' : 'none';\n",
              "\n",
              "        async function convertToInteractive(key) {\n",
              "          const element = document.querySelector('#df-5adec236-fa60-482f-b217-a7987c9ec57d');\n",
              "          const dataTable =\n",
              "            await google.colab.kernel.invokeFunction('convertToInteractive',\n",
              "                                                     [key], {});\n",
              "          if (!dataTable) return;\n",
              "\n",
              "          const docLinkHtml = 'Like what you see? Visit the ' +\n",
              "            '<a target=\"_blank\" href=https://colab.research.google.com/notebooks/data_table.ipynb>data table notebook</a>'\n",
              "            + ' to learn more about interactive tables.';\n",
              "          element.innerHTML = '';\n",
              "          dataTable['output_type'] = 'display_data';\n",
              "          await google.colab.output.renderOutput(dataTable, element);\n",
              "          const docLink = document.createElement('div');\n",
              "          docLink.innerHTML = docLinkHtml;\n",
              "          element.appendChild(docLink);\n",
              "        }\n",
              "      </script>\n",
              "    </div>\n",
              "  </div>\n",
              "  "
            ]
          },
          "metadata": {},
          "execution_count": 5
        }
      ]
    },
    {
      "cell_type": "code",
      "source": [
        "for floor in ceiling_medians.index:\n",
        "    df.loc[(df['floors_total'].isna()) | \n",
        "             ((df['floors_total'] == floor) & (ceiling_medians.loc[floor, 'count'] == 0)), \n",
        "             'ceiling_height'] = df['ceiling_height'].describe()[5]"
      ],
      "metadata": {
        "id": "W27qVFOT_-va"
      },
      "execution_count": null,
      "outputs": []
    },
    {
      "cell_type": "code",
      "source": [
        "for floor in ceiling_medians.index:\n",
        "    df.loc[(df['ceiling_height'].isna()) & \n",
        "             (df['floors_total'] == floor), \n",
        "             'ceiling_height'] = ceiling_medians.loc[floor, 'median']"
      ],
      "metadata": {
        "id": "Y-2hW9qfAQVE"
      },
      "execution_count": null,
      "outputs": []
    },
    {
      "cell_type": "code",
      "source": [
        "df.dropna(subset=['floors_total'], inplace=True)"
      ],
      "metadata": {
        "id": "7SuYCiq0mFIl"
      },
      "execution_count": null,
      "outputs": []
    },
    {
      "cell_type": "markdown",
      "source": [
        "Проанализируем зависимость общей площади квартиры от жилой площади"
      ],
      "metadata": {
        "id": "uAWJutImFwmD"
      }
    },
    {
      "cell_type": "code",
      "source": [
        "from scipy.optimize import minimize\n",
        "\n",
        "# сначала очистим данные от пропущенных значений\n",
        "living_area_notna = df[df['living_area'].notna()].reset_index(drop=True)\n",
        "\n",
        "# зададим квадратичную функцию ошибки, зависящую от вектора параметров\n",
        "def error_function(w):\n",
        "    sum = 0\n",
        "    for i in range(len(living_area_notna)):\n",
        "        sum += (living_area_notna.loc[i, 'living_area'] - (w[0] + w[1] * living_area_notna.loc[i, 'total_area'])) ** 2\n",
        "    return sum\n",
        "\n",
        "# решим задачу минимизации заданной функции с некоторым начальным приближением\n",
        "result = minimize(error_function, np.array([0, 0]))\n",
        "\n",
        "# зададим линейную функцию, отображающую наше решение\n",
        "def linear_function(w0, w1, x):\n",
        "    return (w0 + w1 * x)\n",
        "\n",
        "# Изобразим решение на графике\n",
        "sns.relplot(x='total_area', y='living_area', data=df)\n",
        "\n",
        "total_area = np.linspace(0, 800)\n",
        "line = plt.plot(total_area, linear_function(result.x[0], result.x[1], total_area), color='crimson', linewidth=3)\n",
        "plt.title('Зависимость жилой площади от общей площади недвижимости')\n",
        "plt.xlabel('Общая площадь')\n",
        "plt.ylabel('Жилая площадь')\n",
        "plt.show()"
      ],
      "metadata": {
        "colab": {
          "base_uri": "https://localhost:8080/",
          "height": 385
        },
        "id": "T6OFKSkyAg3Y",
        "outputId": "bdbd23f4-7003-4a38-aa4c-f7c45952f1f1"
      },
      "execution_count": null,
      "outputs": [
        {
          "output_type": "display_data",
          "data": {
            "text/plain": [
              "<Figure size 360x360 with 1 Axes>"
            ],
            "image/png": "[encoded data removed]"
          },
          "metadata": {
            "needs_background": "light"
          }
        }
      ]
    },
    {
      "cell_type": "code",
      "source": [
        "x = df['last_price'] \n",
        "y = df['total_area']"
      ],
      "metadata": {
        "id": "BPlE4yryFRFK"
      },
      "execution_count": null,
      "outputs": []
    },
    {
      "cell_type": "code",
      "source": [
        "\n",
        "from matplotlib.pyplot import figure\n",
        "figure(figsize=(20, 12), dpi=80) # зададим размеры графика\n",
        "\n",
        "plt.scatter(x / 100000, y, s=3) # построим график (s - размер точек диаграммы)\n",
        "\n",
        "plt.xlabel('price') # зададим название оси ОХ\n",
        "plt.ylabel('total_area') # зададим название оси OY\n",
        "\n",
        "plt.xlim(0, 2000) # зададим границы отображения оси ОХ\n",
        "plt.ylim(0, 400) # зададим границы отображения оси ОY\n",
        "\n",
        "plt.show() # выведем график"
      ],
      "metadata": {
        "colab": {
          "base_uri": "https://localhost:8080/",
          "height": 513
        },
        "id": "hxwcTcOyFzwA",
        "outputId": "2a99be29-6afe-4f7c-ff76-c1a4b702303c"
      },
      "execution_count": null,
      "outputs": [
        {
          "output_type": "display_data",
          "data": {
            "text/plain": [
              "<Figure size 1600x960 with 1 Axes>"
            ],
            "image/png": "[encoded data removed]"
          },
          "metadata": {
            "needs_background": "light"
          }
        }
      ]
    },
    {
      "cell_type": "markdown",
      "source": [
        "Где не указано, что квартира является апартаментами, заполняем False, так как вероятнее всего пользователи просто не указали что их квартира - НЕ апартаменты."
      ],
      "metadata": {
        "id": "2AAAm-9ZGqrM"
      }
    },
    {
      "cell_type": "code",
      "source": [
        "df['is_apartment'] = df['is_apartment'].fillna(0)"
      ],
      "metadata": {
        "id": "fiPLOyjjF6QZ"
      },
      "execution_count": null,
      "outputs": []
    },
    {
      "cell_type": "markdown",
      "source": [
        "Пропуски площади кухни аналогично заполняем средним значением по площадям кухни с аналогичным числом комнат. Можно заметить, что в квартирах с нулём комнат среднее число площади кухни - NaN => можно сделать вывод, что вероятнее всего это квартиры-студии, поэтому заменим их значение на ноль"
      ],
      "metadata": {
        "id": "pj0gT6tpG7n_"
      }
    },
    {
      "cell_type": "code",
      "source": [
        "mean_kitchen_area = df.groupby(['rooms'])['kitchen_area'].mean()\n",
        "for i in mean_kitchen_area.index:\n",
        "  df.loc[(df['kitchen_area'].isna()) & (df['rooms'] == i), 'kitchen_area'] = df.loc[(df['kitchen_area'].isna()) & (df['rooms'] == i), 'kitchen_area'].fillna(round(mean_kitchen_area[i],2))\n",
        "df['kitchen_area'] = df['kitchen_area'].fillna(0)"
      ],
      "metadata": {
        "id": "xA2mQ29jGhdb"
      },
      "execution_count": null,
      "outputs": []
    },
    {
      "cell_type": "code",
      "source": [
        "kitchen_area_notna = df[df['kitchen_area'].notna()].reset_index(drop=True)\n",
        "\n",
        "# зададим квадратичную функцию ошибки, зависящую от вектора параметров\n",
        "def error_function(w):\n",
        "    sum = 0\n",
        "    for i in range(len(kitchen_area_notna)):\n",
        "        sum += (kitchen_area_notna.loc[i, 'kitchen_area'] - (w[0] + w[1] * kitchen_area_notna.loc[i, 'total_area'])) ** 2\n",
        "    return sum\n",
        "\n",
        "# решим задачу минимизации заданной функции с некоторым начальным приближением\n",
        "result = minimize(error_function, np.array([0, 0]))\n",
        "\n",
        "# Изобразим решение на графике\n",
        "sns.relplot(x='total_area', y='kitchen_area', data=df)\n",
        "\n",
        "total_area = np.linspace(0, 800)\n",
        "line = plt.plot(total_area, linear_function(result.x[0], result.x[1], total_area), color='crimson', linewidth=3)\n",
        "plt.title('Зависимость площади кухни от общей площади недвижимости')\n",
        "plt.xlabel('Общая площадь')\n",
        "plt.ylabel('Площадь кухни')\n",
        "plt.show()"
      ],
      "metadata": {
        "colab": {
          "base_uri": "https://localhost:8080/",
          "height": 385
        },
        "id": "RKJJqVDSCZnG",
        "outputId": "80b7bfd0-ec0f-4e0a-c44d-d4739ba3540d"
      },
      "execution_count": null,
      "outputs": [
        {
          "output_type": "display_data",
          "data": {
            "text/plain": [
              "<Figure size 360x360 with 1 Axes>"
            ],
            "image/png": "[encoded data removed]"
          },
          "metadata": {
            "needs_background": "light"
          }
        }
      ]
    },
    {
      "cell_type": "markdown",
      "source": [
        "Где не указано, что есть балкон, заполняем 0, так как вероятнее всего пользователи просто не указали что их квартира - БЕЗ балкона."
      ],
      "metadata": {
        "id": "3uFS3JH2HO3B"
      }
    },
    {
      "cell_type": "code",
      "source": [
        "df[df['days_exposition'].isna()]"
      ],
      "metadata": {
        "colab": {
          "base_uri": "https://localhost:8080/",
          "height": 644
        },
        "id": "YusJMDRCmwsq",
        "outputId": "8c31f498-01ec-43aa-e73f-da78b16675fb"
      },
      "execution_count": null,
      "outputs": [
        {
          "output_type": "execute_result",
          "data": {
            "text/plain": [
              "       total_images  last_price  total_area first_day_exposition  rooms  \\\n",
              "0                20  13000000.0      108.00  2019-03-07T00:00:00      3   \n",
              "7                 5   7915000.0       71.60  2019-04-18T00:00:00      2   \n",
              "44               13   5350000.0       40.00  2018-11-18T00:00:00      1   \n",
              "45               17   5200000.0       50.60  2018-12-02T00:00:00      2   \n",
              "46               17   6600000.0       52.10  2019-01-31T00:00:00      2   \n",
              "...             ...         ...         ...                  ...    ...   \n",
              "23684            20  21400000.0      145.00  2018-11-02T00:00:00      4   \n",
              "23685            15   2490000.0       31.00  2019-01-24T00:00:00      1   \n",
              "23694             9   9700000.0      133.81  2017-03-21T00:00:00      3   \n",
              "23696            18   2500000.0       56.70  2018-02-11T00:00:00      2   \n",
              "23698             4   1350000.0       32.30  2017-07-21T00:00:00      1   \n",
              "\n",
              "       ceiling_height  floors_total  living_area  floor is_apartment  ...  \\\n",
              "0                2.70          16.0         51.0      8            0  ...   \n",
              "7                2.76          24.0          NaN     22            0  ...   \n",
              "44               2.72          22.0          NaN      3            0  ...   \n",
              "45               2.65           9.0         30.3      7            0  ...   \n",
              "46               2.60          24.0         29.7      9            0  ...   \n",
              "...               ...           ...          ...    ...          ...  ...   \n",
              "23684            3.00          26.0         71.4     17            0  ...   \n",
              "23685            2.50           5.0         17.3      5            0  ...   \n",
              "23694            3.70           5.0         73.3      3            0  ...   \n",
              "23696            2.76           3.0         29.7      1            0  ...   \n",
              "23698            2.50           5.0         12.3      1            0  ...   \n",
              "\n",
              "       kitchen_area  balcony        locality_name  airports_nearest  \\\n",
              "0             25.00      NaN      Санкт-Петербург           18863.0   \n",
              "7             18.90      2.0      Санкт-Петербург           23982.0   \n",
              "44             9.55      1.0      Санкт-Петербург           30471.0   \n",
              "45             7.00      NaN      Санкт-Петербург           30011.0   \n",
              "46             8.30      2.0      Санкт-Петербург           15114.0   \n",
              "...             ...      ...                  ...               ...   \n",
              "23684         15.60      NaN      Санкт-Петербург           11827.0   \n",
              "23685          5.60      1.0            Ломоносов           48393.0   \n",
              "23694         13.83      NaN      Санкт-Петербург           24665.0   \n",
              "23696          9.97      NaN     село Рождествено               NaN   \n",
              "23698          9.00      NaN  поселок Новый Учхоз               NaN   \n",
              "\n",
              "      cityCenters_nearest  parks_around3000  parks_nearest  ponds_around3000  \\\n",
              "0                 16028.0               1.0          482.0               2.0   \n",
              "7                 11634.0               0.0            NaN               0.0   \n",
              "44                11603.0               1.0          620.0               1.0   \n",
              "45                12872.0               0.0            NaN               0.0   \n",
              "46                12702.0               0.0            NaN               0.0   \n",
              "...                   ...               ...            ...               ...   \n",
              "23684             11459.0               0.0            NaN               0.0   \n",
              "23685             51818.0               0.0            NaN               0.0   \n",
              "23694              4232.0               1.0          796.0               3.0   \n",
              "23696                 NaN               NaN            NaN               NaN   \n",
              "23698                 NaN               NaN            NaN               NaN   \n",
              "\n",
              "       ponds_nearest  days_exposition  \n",
              "0              755.0              NaN  \n",
              "7                NaN              NaN  \n",
              "44            1152.0              NaN  \n",
              "45               NaN              NaN  \n",
              "46               NaN              NaN  \n",
              "...              ...              ...  \n",
              "23684            NaN              NaN  \n",
              "23685            NaN              NaN  \n",
              "23694          381.0              NaN  \n",
              "23696            NaN              NaN  \n",
              "23698            NaN              NaN  \n",
              "\n",
              "[3172 rows x 22 columns]"
            ],
            "text/html": [
              "\n",
              "  <div id=\"df-6e2a9824-af96-4168-b03d-c5cbad3205d6\">\n",
              "    <div class=\"colab-df-container\">\n",
              "      <div>\n",
              "<style scoped>\n",
              "    .dataframe tbody tr th:only-of-type {\n",
              "        vertical-align: middle;\n",
              "    }\n",
              "\n",
              "    .dataframe tbody tr th {\n",
              "        vertical-align: top;\n",
              "    }\n",
              "\n",
              "    .dataframe thead th {\n",
              "        text-align: right;\n",
              "    }\n",
              "</style>\n",
              "<table border=\"1\" class=\"dataframe\">\n",
              "  <thead>\n",
              "    <tr style=\"text-align: right;\">\n",
              "      <th></th>\n",
              "      <th>total_images</th>\n",
              "      <th>last_price</th>\n",
              "      <th>total_area</th>\n",
              "      <th>first_day_exposition</th>\n",
              "      <th>rooms</th>\n",
              "      <th>ceiling_height</th>\n",
              "      <th>floors_total</th>\n",
              "      <th>living_area</th>\n",
              "      <th>floor</th>\n",
              "      <th>is_apartment</th>\n",
              "      <th>...</th>\n",
              "      <th>kitchen_area</th>\n",
              "      <th>balcony</th>\n",
              "      <th>locality_name</th>\n",
              "      <th>airports_nearest</th>\n",
              "      <th>cityCenters_nearest</th>\n",
              "      <th>parks_around3000</th>\n",
              "      <th>parks_nearest</th>\n",
              "      <th>ponds_around3000</th>\n",
              "      <th>ponds_nearest</th>\n",
              "      <th>days_exposition</th>\n",
              "    </tr>\n",
              "  </thead>\n",
              "  <tbody>\n",
              "    <tr>\n",
              "      <th>0</th>\n",
              "      <td>20</td>\n",
              "      <td>13000000.0</td>\n",
              "      <td>108.00</td>\n",
              "      <td>2019-03-07T00:00:00</td>\n",
              "      <td>3</td>\n",
              "      <td>2.70</td>\n",
              "      <td>16.0</td>\n",
              "      <td>51.0</td>\n",
              "      <td>8</td>\n",
              "      <td>0</td>\n",
              "      <td>...</td>\n",
              "      <td>25.00</td>\n",
              "      <td>NaN</td>\n",
              "      <td>Санкт-Петербург</td>\n",
              "      <td>18863.0</td>\n",
              "      <td>16028.0</td>\n",
              "      <td>1.0</td>\n",
              "      <td>482.0</td>\n",
              "      <td>2.0</td>\n",
              "      <td>755.0</td>\n",
              "      <td>NaN</td>\n",
              "    </tr>\n",
              "    <tr>\n",
              "      <th>7</th>\n",
              "      <td>5</td>\n",
              "      <td>7915000.0</td>\n",
              "      <td>71.60</td>\n",
              "      <td>2019-04-18T00:00:00</td>\n",
              "      <td>2</td>\n",
              "      <td>2.76</td>\n",
              "      <td>24.0</td>\n",
              "      <td>NaN</td>\n",
              "      <td>22</td>\n",
              "      <td>0</td>\n",
              "      <td>...</td>\n",
              "      <td>18.90</td>\n",
              "      <td>2.0</td>\n",
              "      <td>Санкт-Петербург</td>\n",
              "      <td>23982.0</td>\n",
              "      <td>11634.0</td>\n",
              "      <td>0.0</td>\n",
              "      <td>NaN</td>\n",
              "      <td>0.0</td>\n",
              "      <td>NaN</td>\n",
              "      <td>NaN</td>\n",
              "    </tr>\n",
              "    <tr>\n",
              "      <th>44</th>\n",
              "      <td>13</td>\n",
              "      <td>5350000.0</td>\n",
              "      <td>40.00</td>\n",
              "      <td>2018-11-18T00:00:00</td>\n",
              "      <td>1</td>\n",
              "      <td>2.72</td>\n",
              "      <td>22.0</td>\n",
              "      <td>NaN</td>\n",
              "      <td>3</td>\n",
              "      <td>0</td>\n",
              "      <td>...</td>\n",
              "      <td>9.55</td>\n",
              "      <td>1.0</td>\n",
              "      <td>Санкт-Петербург</td>\n",
              "      <td>30471.0</td>\n",
              "      <td>11603.0</td>\n",
              "      <td>1.0</td>\n",
              "      <td>620.0</td>\n",
              "      <td>1.0</td>\n",
              "      <td>1152.0</td>\n",
              "      <td>NaN</td>\n",
              "    </tr>\n",
              "    <tr>\n",
              "      <th>45</th>\n",
              "      <td>17</td>\n",
              "      <td>5200000.0</td>\n",
              "      <td>50.60</td>\n",
              "      <td>2018-12-02T00:00:00</td>\n",
              "      <td>2</td>\n",
              "      <td>2.65</td>\n",
              "      <td>9.0</td>\n",
              "      <td>30.3</td>\n",
              "      <td>7</td>\n",
              "      <td>0</td>\n",
              "      <td>...</td>\n",
              "      <td>7.00</td>\n",
              "      <td>NaN</td>\n",
              "      <td>Санкт-Петербург</td>\n",
              "      <td>30011.0</td>\n",
              "      <td>12872.0</td>\n",
              "      <td>0.0</td>\n",
              "      <td>NaN</td>\n",
              "      <td>0.0</td>\n",
              "      <td>NaN</td>\n",
              "      <td>NaN</td>\n",
              "    </tr>\n",
              "    <tr>\n",
              "      <th>46</th>\n",
              "      <td>17</td>\n",
              "      <td>6600000.0</td>\n",
              "      <td>52.10</td>\n",
              "      <td>2019-01-31T00:00:00</td>\n",
              "      <td>2</td>\n",
              "      <td>2.60</td>\n",
              "      <td>24.0</td>\n",
              "      <td>29.7</td>\n",
              "      <td>9</td>\n",
              "      <td>0</td>\n",
              "      <td>...</td>\n",
              "      <td>8.30</td>\n",
              "      <td>2.0</td>\n",
              "      <td>Санкт-Петербург</td>\n",
              "      <td>15114.0</td>\n",
              "      <td>12702.0</td>\n",
              "      <td>0.0</td>\n",
              "      <td>NaN</td>\n",
              "      <td>0.0</td>\n",
              "      <td>NaN</td>\n",
              "      <td>NaN</td>\n",
              "    </tr>\n",
              "    <tr>\n",
              "      <th>...</th>\n",
              "      <td>...</td>\n",
              "      <td>...</td>\n",
              "      <td>...</td>\n",
              "      <td>...</td>\n",
              "      <td>...</td>\n",
              "      <td>...</td>\n",
              "      <td>...</td>\n",
              "      <td>...</td>\n",
              "      <td>...</td>\n",
              "      <td>...</td>\n",
              "      <td>...</td>\n",
              "      <td>...</td>\n",
              "      <td>...</td>\n",
              "      <td>...</td>\n",
              "      <td>...</td>\n",
              "      <td>...</td>\n",
              "      <td>...</td>\n",
              "      <td>...</td>\n",
              "      <td>...</td>\n",
              "      <td>...</td>\n",
              "      <td>...</td>\n",
              "    </tr>\n",
              "    <tr>\n",
              "      <th>23684</th>\n",
              "      <td>20</td>\n",
              "      <td>21400000.0</td>\n",
              "      <td>145.00</td>\n",
              "      <td>2018-11-02T00:00:00</td>\n",
              "      <td>4</td>\n",
              "      <td>3.00</td>\n",
              "      <td>26.0</td>\n",
              "      <td>71.4</td>\n",
              "      <td>17</td>\n",
              "      <td>0</td>\n",
              "      <td>...</td>\n",
              "      <td>15.60</td>\n",
              "      <td>NaN</td>\n",
              "      <td>Санкт-Петербург</td>\n",
              "      <td>11827.0</td>\n",
              "      <td>11459.0</td>\n",
              "      <td>0.0</td>\n",
              "      <td>NaN</td>\n",
              "      <td>0.0</td>\n",
              "      <td>NaN</td>\n",
              "      <td>NaN</td>\n",
              "    </tr>\n",
              "    <tr>\n",
              "      <th>23685</th>\n",
              "      <td>15</td>\n",
              "      <td>2490000.0</td>\n",
              "      <td>31.00</td>\n",
              "      <td>2019-01-24T00:00:00</td>\n",
              "      <td>1</td>\n",
              "      <td>2.50</td>\n",
              "      <td>5.0</td>\n",
              "      <td>17.3</td>\n",
              "      <td>5</td>\n",
              "      <td>0</td>\n",
              "      <td>...</td>\n",
              "      <td>5.60</td>\n",
              "      <td>1.0</td>\n",
              "      <td>Ломоносов</td>\n",
              "      <td>48393.0</td>\n",
              "      <td>51818.0</td>\n",
              "      <td>0.0</td>\n",
              "      <td>NaN</td>\n",
              "      <td>0.0</td>\n",
              "      <td>NaN</td>\n",
              "      <td>NaN</td>\n",
              "    </tr>\n",
              "    <tr>\n",
              "      <th>23694</th>\n",
              "      <td>9</td>\n",
              "      <td>9700000.0</td>\n",
              "      <td>133.81</td>\n",
              "      <td>2017-03-21T00:00:00</td>\n",
              "      <td>3</td>\n",
              "      <td>3.70</td>\n",
              "      <td>5.0</td>\n",
              "      <td>73.3</td>\n",
              "      <td>3</td>\n",
              "      <td>0</td>\n",
              "      <td>...</td>\n",
              "      <td>13.83</td>\n",
              "      <td>NaN</td>\n",
              "      <td>Санкт-Петербург</td>\n",
              "      <td>24665.0</td>\n",
              "      <td>4232.0</td>\n",
              "      <td>1.0</td>\n",
              "      <td>796.0</td>\n",
              "      <td>3.0</td>\n",
              "      <td>381.0</td>\n",
              "      <td>NaN</td>\n",
              "    </tr>\n",
              "    <tr>\n",
              "      <th>23696</th>\n",
              "      <td>18</td>\n",
              "      <td>2500000.0</td>\n",
              "      <td>56.70</td>\n",
              "      <td>2018-02-11T00:00:00</td>\n",
              "      <td>2</td>\n",
              "      <td>2.76</td>\n",
              "      <td>3.0</td>\n",
              "      <td>29.7</td>\n",
              "      <td>1</td>\n",
              "      <td>0</td>\n",
              "      <td>...</td>\n",
              "      <td>9.97</td>\n",
              "      <td>NaN</td>\n",
              "      <td>село Рождествено</td>\n",
              "      <td>NaN</td>\n",
              "      <td>NaN</td>\n",
              "      <td>NaN</td>\n",
              "      <td>NaN</td>\n",
              "      <td>NaN</td>\n",
              "      <td>NaN</td>\n",
              "      <td>NaN</td>\n",
              "    </tr>\n",
              "    <tr>\n",
              "      <th>23698</th>\n",
              "      <td>4</td>\n",
              "      <td>1350000.0</td>\n",
              "      <td>32.30</td>\n",
              "      <td>2017-07-21T00:00:00</td>\n",
              "      <td>1</td>\n",
              "      <td>2.50</td>\n",
              "      <td>5.0</td>\n",
              "      <td>12.3</td>\n",
              "      <td>1</td>\n",
              "      <td>0</td>\n",
              "      <td>...</td>\n",
              "      <td>9.00</td>\n",
              "      <td>NaN</td>\n",
              "      <td>поселок Новый Учхоз</td>\n",
              "      <td>NaN</td>\n",
              "      <td>NaN</td>\n",
              "      <td>NaN</td>\n",
              "      <td>NaN</td>\n",
              "      <td>NaN</td>\n",
              "      <td>NaN</td>\n",
              "      <td>NaN</td>\n",
              "    </tr>\n",
              "  </tbody>\n",
              "</table>\n",
              "<p>3172 rows × 22 columns</p>\n",
              "</div>\n",
              "      <button class=\"colab-df-convert\" onclick=\"convertToInteractive('df-6e2a9824-af96-4168-b03d-c5cbad3205d6')\"\n",
              "              title=\"Convert this dataframe to an interactive table.\"\n",
              "              style=\"display:none;\">\n",
              "        \n",
              "  <svg xmlns=\"http://www.w3.org/2000/svg\" height=\"24px\"viewBox=\"0 0 24 24\"\n",
              "       width=\"24px\">\n",
              "    <path d=\"M0 0h24v24H0V0z\" fill=\"none\"/>\n",
              "    <path d=\"M18.56 5.44l.94 2.06.94-2.06 2.06-.94-2.06-.94-.94-2.06-.94 2.06-2.06.94zm-11 1L8.5 8.5l.94-2.06 2.06-.94-2.06-.94L8.5 2.5l-.94 2.06-2.06.94zm10 10l.94 2.06.94-2.06 2.06-.94-2.06-.94-.94-2.06-.94 2.06-2.06.94z\"/><path d=\"M17.41 7.96l-1.37-1.37c-.4-.4-.92-.59-1.43-.59-.52 0-1.04.2-1.43.59L10.3 9.45l-7.72 7.72c-.78.78-.78 2.05 0 2.83L4 21.41c.39.39.9.59 1.41.59.51 0 1.02-.2 1.41-.59l7.78-7.78 2.81-2.81c.8-.78.8-2.07 0-2.86zM5.41 20L4 18.59l7.72-7.72 1.47 1.35L5.41 20z\"/>\n",
              "  </svg>\n",
              "      </button>\n",
              "      \n",
              "  <style>\n",
              "    .colab-df-container {\n",
              "      display:flex;\n",
              "      flex-wrap:wrap;\n",
              "      gap: 12px;\n",
              "    }\n",
              "\n",
              "    .colab-df-convert {\n",
              "      background-color: #E8F0FE;\n",
              "      border: none;\n",
              "      border-radius: 50%;\n",
              "      cursor: pointer;\n",
              "      display: none;\n",
              "      fill: #1967D2;\n",
              "      height: 32px;\n",
              "      padding: 0 0 0 0;\n",
              "      width: 32px;\n",
              "    }\n",
              "\n",
              "    .colab-df-convert:hover {\n",
              "      background-color: #E2EBFA;\n",
              "      box-shadow: 0px 1px 2px rgba(60, 64, 67, 0.3), 0px 1px 3px 1px rgba(60, 64, 67, 0.15);\n",
              "      fill: #174EA6;\n",
              "    }\n",
              "\n",
              "    [theme=dark] .colab-df-convert {\n",
              "      background-color: #3B4455;\n",
              "      fill: #D2E3FC;\n",
              "    }\n",
              "\n",
              "    [theme=dark] .colab-df-convert:hover {\n",
              "      background-color: #434B5C;\n",
              "      box-shadow: 0px 1px 3px 1px rgba(0, 0, 0, 0.15);\n",
              "      filter: drop-shadow(0px 1px 2px rgba(0, 0, 0, 0.3));\n",
              "      fill: #FFFFFF;\n",
              "    }\n",
              "  </style>\n",
              "\n",
              "      <script>\n",
              "        const buttonEl =\n",
              "          document.querySelector('#df-6e2a9824-af96-4168-b03d-c5cbad3205d6 button.colab-df-convert');\n",
              "        buttonEl.style.display =\n",
              "          google.colab.kernel.accessAllowed ? 'block' : 'none';\n",
              "\n",
              "        async function convertToInteractive(key) {\n",
              "          const element = document.querySelector('#df-6e2a9824-af96-4168-b03d-c5cbad3205d6');\n",
              "          const dataTable =\n",
              "            await google.colab.kernel.invokeFunction('convertToInteractive',\n",
              "                                                     [key], {});\n",
              "          if (!dataTable) return;\n",
              "\n",
              "          const docLinkHtml = 'Like what you see? Visit the ' +\n",
              "            '<a target=\"_blank\" href=https://colab.research.google.com/notebooks/data_table.ipynb>data table notebook</a>'\n",
              "            + ' to learn more about interactive tables.';\n",
              "          element.innerHTML = '';\n",
              "          dataTable['output_type'] = 'display_data';\n",
              "          await google.colab.output.renderOutput(dataTable, element);\n",
              "          const docLink = document.createElement('div');\n",
              "          docLink.innerHTML = docLinkHtml;\n",
              "          element.appendChild(docLink);\n",
              "        }\n",
              "      </script>\n",
              "    </div>\n",
              "  </div>\n",
              "  "
            ]
          },
          "metadata": {},
          "execution_count": 15
        }
      ]
    },
    {
      "cell_type": "code",
      "source": [
        "df['balcony'].value_counts()"
      ],
      "metadata": {
        "colab": {
          "base_uri": "https://localhost:8080/"
        },
        "id": "uKHterPujrsK",
        "outputId": "37651631-7ae4-4137-9a7d-f9a3fb82bf6e"
      },
      "execution_count": null,
      "outputs": [
        {
          "output_type": "execute_result",
          "data": {
            "text/plain": [
              "1.0    4195\n",
              "0.0    3713\n",
              "2.0    3657\n",
              "5.0     304\n",
              "4.0     183\n",
              "3.0      81\n",
              "Name: balcony, dtype: int64"
            ]
          },
          "metadata": {},
          "execution_count": 26
        }
      ]
    },
    {
      "cell_type": "code",
      "source": [
        "df['balcony'] = df['balcony'].fillna(0)"
      ],
      "metadata": {
        "id": "zvd0axjRHCPH"
      },
      "execution_count": null,
      "outputs": []
    },
    {
      "cell_type": "code",
      "source": [],
      "metadata": {
        "id": "z9C7BPsm3L-p"
      },
      "execution_count": null,
      "outputs": []
    },
    {
      "cell_type": "markdown",
      "source": [
        "Пропуски данных с названием населённого пункта никак логично не предобработать, поэтому удалим их в силу отсутствия статистической значимости (их всего 0.4% от общего числа)"
      ],
      "metadata": {
        "id": "UUCmVIFAHfij"
      }
    },
    {
      "cell_type": "code",
      "source": [
        "df.dropna(subset=['locality_name'], inplace=True)"
      ],
      "metadata": {
        "id": "8nmuldxMHb_b"
      },
      "execution_count": null,
      "outputs": []
    },
    {
      "cell_type": "markdown",
      "source": [
        "Пропуски в следующих полях обработать не является возможным из сообрежений логики:\n",
        "*   airports_nearest\n",
        "*   cityCenters_nearest\n",
        "*   parks_around3000\n",
        "*   parks_nearest\n",
        "*   ponds_around3000\n",
        "*   ponds_nearest\n",
        "*   days_exposition"
      ],
      "metadata": {
        "id": "x__oyHd6utG8"
      }
    },
    {
      "cell_type": "markdown",
      "source": [
        "Таким образом постфактум анализа исходного сета было принято решение о замене пропусков в следующих полях:\n",
        "\n",
        "\n",
        "*   ceiling_height\n",
        "*   living_area\n",
        "*   floors_total\n",
        "*   is_apartment\n",
        "*   balcony\n",
        "*   kitchen_area\n",
        "*   locality_name\n",
        "\n",
        "В остальных полях обрабатывать пропуски либо нет необходимости , либо не предоставляется возожным, так как нет подходящей по смыслу замены.\n",
        "\n",
        "Причинами наличия пропусков может быть следующее:\n",
        "\n",
        "\n",
        "1.   Пользователи пропускают заполнение поля, если оно к ним не имеет отношения (например, пропуски в полях апартаменты или же балконы);\n",
        "2.   Пользователи за незнанием/большой отдалённостью или же вообще отсутствием не указывают такие данные как расстояние до аэропорта/парка/водоёма, что также приводит к пропускам."
      ],
      "metadata": {
        "id": "I238UZ0NIGTK"
      }
    },
    {
      "cell_type": "markdown",
      "source": [
        "## Анализ типа данных\n"
      ],
      "metadata": {
        "id": "YL9oCOcz1GH_"
      }
    },
    {
      "cell_type": "code",
      "source": [
        "df.info()"
      ],
      "metadata": {
        "colab": {
          "base_uri": "https://localhost:8080/"
        },
        "id": "F4qL1y8_1KHP",
        "outputId": "e0d07ec8-febf-4f5f-c3a5-cdb5a1890bd7"
      },
      "execution_count": null,
      "outputs": [
        {
          "output_type": "stream",
          "name": "stdout",
          "text": [
            "<class 'pandas.core.frame.DataFrame'>\n",
            "Int64Index: 23565 entries, 0 to 23698\n",
            "Data columns (total 22 columns):\n",
            " #   Column                Non-Null Count  Dtype  \n",
            "---  ------                --------------  -----  \n",
            " 0   total_images          23565 non-null  int64  \n",
            " 1   last_price            23565 non-null  float64\n",
            " 2   total_area            23565 non-null  float64\n",
            " 3   first_day_exposition  23565 non-null  object \n",
            " 4   rooms                 23565 non-null  int64  \n",
            " 5   ceiling_height        23565 non-null  float64\n",
            " 6   floors_total          23565 non-null  float64\n",
            " 7   living_area           21700 non-null  float64\n",
            " 8   floor                 23565 non-null  int64  \n",
            " 9   is_apartment          23565 non-null  object \n",
            " 10  studio                23565 non-null  bool   \n",
            " 11  open_plan             23565 non-null  bool   \n",
            " 12  kitchen_area          23565 non-null  float64\n",
            " 13  balcony               23565 non-null  float64\n",
            " 14  locality_name         23565 non-null  object \n",
            " 15  airports_nearest      18041 non-null  float64\n",
            " 16  cityCenters_nearest   18064 non-null  float64\n",
            " 17  parks_around3000      18065 non-null  float64\n",
            " 18  parks_nearest         8030 non-null   float64\n",
            " 19  ponds_around3000      18065 non-null  float64\n",
            " 20  ponds_nearest         9036 non-null   float64\n",
            " 21  days_exposition       20394 non-null  float64\n",
            "dtypes: bool(2), float64(14), int64(3), object(3)\n",
            "memory usage: 3.8+ MB\n"
          ]
        }
      ]
    },
    {
      "cell_type": "markdown",
      "source": [
        "Поле first_day_exposition логично преобразовать к типу данных datetime"
      ],
      "metadata": {
        "id": "af6Q_knP3oJI"
      }
    },
    {
      "cell_type": "code",
      "source": [
        "df['first_day_exposition'] = pd.to_datetime(df['first_day_exposition'])"
      ],
      "metadata": {
        "id": "9Ldw38lS3ULo"
      },
      "execution_count": null,
      "outputs": []
    },
    {
      "cell_type": "markdown",
      "source": [
        "Заменим количество этажей на целое число, так как общее количество этажей не может измеряться в долях чего-либо\n",
        "\n"
      ],
      "metadata": {
        "id": "dByym4kn33v6"
      }
    },
    {
      "cell_type": "code",
      "source": [
        "df['floors_total'] = df['floors_total'].astype('int')"
      ],
      "metadata": {
        "id": "M9achJk03vtR"
      },
      "execution_count": null,
      "outputs": []
    },
    {
      "cell_type": "markdown",
      "source": [
        "Тип данных у поля is_apartment лучше поменять на bool, так как там либо Да, либо Нет"
      ],
      "metadata": {
        "id": "q53GE5D_51YN"
      }
    },
    {
      "cell_type": "code",
      "source": [
        "df['is_apartment'] = df['is_apartment'].astype('bool')"
      ],
      "metadata": {
        "id": "Dnbjqm445rTk"
      },
      "execution_count": null,
      "outputs": []
    },
    {
      "cell_type": "markdown",
      "source": [
        "Число балконов также не может быть не целым числом, поэтому заменим его на целое"
      ],
      "metadata": {
        "id": "IxgK7E5R6IUr"
      }
    },
    {
      "cell_type": "code",
      "source": [
        "df['balcony'] = df['balcony'].astype('int')"
      ],
      "metadata": {
        "id": "IaMLFgDD6NfN"
      },
      "execution_count": null,
      "outputs": []
    },
    {
      "cell_type": "markdown",
      "source": [
        "## Устранение неявных дубликатов"
      ],
      "metadata": {
        "id": "PFNonSzn9nP2"
      }
    },
    {
      "cell_type": "markdown",
      "source": [
        "Сначала изучим значения названия населённых пунктов"
      ],
      "metadata": {
        "id": "wYIevREv9rKw"
      }
    },
    {
      "cell_type": "code",
      "source": [
        "a = df['locality_name'].value_counts()\n",
        "list(a.index)"
      ],
      "metadata": {
        "colab": {
          "base_uri": "https://localhost:8080/"
        },
        "id": "VKB2Zo4M6ndT",
        "outputId": "8383fc5a-6e1e-4fa0-a8a6-1fa115f2e171"
      },
      "execution_count": null,
      "outputs": [
        {
          "output_type": "execute_result",
          "data": {
            "text/plain": [
              "['Санкт-Петербург',\n",
              " 'посёлок Мурино',\n",
              " 'посёлок Шушары',\n",
              " 'Всеволожск',\n",
              " 'Пушкин',\n",
              " 'Колпино',\n",
              " 'посёлок Парголово',\n",
              " 'Гатчина',\n",
              " 'деревня Кудрово',\n",
              " 'Выборг',\n",
              " 'Петергоф',\n",
              " 'Сестрорецк',\n",
              " 'Красное Село',\n",
              " 'Кудрово',\n",
              " 'деревня Новое Девяткино',\n",
              " 'Сертолово',\n",
              " 'Ломоносов',\n",
              " 'Кириши',\n",
              " 'Сланцы',\n",
              " 'Волхов',\n",
              " 'Кингисепп',\n",
              " 'Тосно',\n",
              " 'Кронштадт',\n",
              " 'Никольское',\n",
              " 'Коммунар',\n",
              " 'Сосновый Бор',\n",
              " 'Кировск',\n",
              " 'Отрадное',\n",
              " 'посёлок Бугры',\n",
              " 'Приозерск',\n",
              " 'посёлок Металлострой',\n",
              " 'деревня Старая',\n",
              " 'городской посёлок Янино-1',\n",
              " 'Шлиссельбург',\n",
              " 'Луга',\n",
              " 'Тихвин',\n",
              " 'поселок Бугры',\n",
              " 'посёлок Стрельна',\n",
              " 'посёлок Тельмана',\n",
              " 'Павловск',\n",
              " 'поселок Романовка',\n",
              " 'Волосово',\n",
              " 'Мурино',\n",
              " 'поселок Мурино',\n",
              " 'посёлок городского типа Сиверский',\n",
              " 'Ивангород',\n",
              " 'городской посёлок Новоселье',\n",
              " 'городской посёлок Мга',\n",
              " 'поселок городского типа имени Свердлова',\n",
              " 'Сясьстрой',\n",
              " 'Зеленогорск',\n",
              " 'посёлок Щеглово',\n",
              " 'посёлок городского типа Кузьмоловский',\n",
              " 'поселок городского типа Синявино',\n",
              " 'посёлок Новогорелово',\n",
              " 'деревня Лесколово',\n",
              " 'посёлок Понтонный',\n",
              " 'деревня Вартемяги',\n",
              " 'Лодейное Поле',\n",
              " 'Подпорожье',\n",
              " 'поселок городского типа Рощино',\n",
              " 'посёлок Сосново',\n",
              " 'Пикалёво',\n",
              " 'деревня Бегуницы',\n",
              " 'посёлок Новый Свет',\n",
              " 'посёлок городского типа имени Морозова',\n",
              " 'Бокситогорск',\n",
              " 'городской поселок Большая Ижора',\n",
              " 'деревня Большие Колпаны',\n",
              " 'посёлок городского типа Токсово',\n",
              " 'поселок городского типа Дубровка',\n",
              " 'поселок городского типа Рахья',\n",
              " 'городской посёлок Назия',\n",
              " 'деревня Горбунки',\n",
              " 'посёлок городского типа Рощино',\n",
              " 'Новая Ладога',\n",
              " 'Каменногорск',\n",
              " 'посёлок городского типа Ульяновка',\n",
              " 'поселок городского типа Кузьмоловский',\n",
              " 'посёлок городского типа Кузнечное',\n",
              " 'деревня Гарболово',\n",
              " 'поселок Елизаветино',\n",
              " 'поселок городского типа Вырица',\n",
              " 'посёлок Аннино',\n",
              " 'Светогорск',\n",
              " 'посёлок городского типа Лебяжье',\n",
              " 'деревня Мистолово',\n",
              " 'деревня Гостилицы',\n",
              " 'деревня Колтуши',\n",
              " 'деревня Нурма',\n",
              " 'деревня Малое Верево',\n",
              " 'деревня Белогорка',\n",
              " 'посёлок городского типа имени Свердлова',\n",
              " 'деревня Низино',\n",
              " 'поселок Войсковицы',\n",
              " 'деревня Лаголово',\n",
              " 'деревня Сяськелево',\n",
              " 'посёлок городского типа Вырица',\n",
              " 'деревня Малое Карлино',\n",
              " 'поселок Сельцо',\n",
              " 'деревня Оржицы',\n",
              " 'село Русско-Высоцкое',\n",
              " 'посёлок Пудость',\n",
              " 'поселок городского типа Приладожский',\n",
              " 'поселок городского типа Советский',\n",
              " 'деревня Батово',\n",
              " 'поселок Молодцово',\n",
              " 'городской посёлок Павлово',\n",
              " 'Любань',\n",
              " 'деревня Фёдоровское',\n",
              " 'поселок Суходолье',\n",
              " 'поселок Первомайское',\n",
              " 'поселок Запорожское',\n",
              " 'Приморск',\n",
              " 'деревня Кипень',\n",
              " 'деревня Кальтино',\n",
              " 'деревня Кузьмолово',\n",
              " 'поселок городского типа Никольский',\n",
              " 'городской поселок Янино-1',\n",
              " 'село Павлово',\n",
              " 'деревня Извара',\n",
              " 'деревня Калитино',\n",
              " 'городской посёлок Фёдоровское',\n",
              " 'деревня Куттузи',\n",
              " 'поселок Углово',\n",
              " 'деревня Малые Колпаны',\n",
              " 'посёлок городского типа Тайцы',\n",
              " 'посёлок городского типа Мга',\n",
              " 'посёлок Мичуринское',\n",
              " 'посёлок Ильичёво',\n",
              " 'поселок Кобринское',\n",
              " 'посёлок Сапёрный',\n",
              " 'деревня Лопухинка',\n",
              " 'поселок Ушаки',\n",
              " 'деревня Пеники',\n",
              " 'деревня Яльгелево',\n",
              " 'деревня Лампово',\n",
              " 'посёлок городского типа Важины',\n",
              " 'поселок Новый Учхоз',\n",
              " 'деревня Пудомяги',\n",
              " 'деревня Заневка',\n",
              " 'деревня Юкки',\n",
              " 'поселок Аннино',\n",
              " 'посёлок Плодовое',\n",
              " 'посёлок Стеклянный',\n",
              " 'поселок городского типа Красный Бор',\n",
              " 'поселок Глажево',\n",
              " 'поселок Семрино',\n",
              " 'село Копорье',\n",
              " 'поселок городского типа Дружная Горка',\n",
              " 'городской посёлок Рощино',\n",
              " 'посёлок Молодёжное',\n",
              " 'посёлок Кобралово',\n",
              " 'посёлок Войскорово',\n",
              " 'поселок Новый Свет',\n",
              " 'поселок Селезнёво',\n",
              " 'поселок Мичуринское',\n",
              " 'поселок Гарболово',\n",
              " 'городской посёлок Будогощь',\n",
              " 'деревня Парицы',\n",
              " 'посёлок Торфяное',\n",
              " 'деревня Большая Вруда',\n",
              " 'поселок Кобралово',\n",
              " 'посёлок Кикерино',\n",
              " 'посёлок Терволово',\n",
              " 'посёлок Суйда',\n",
              " 'Высоцк',\n",
              " 'поселок городского типа Лебяжье',\n",
              " 'посёлок Усть-Луга',\n",
              " 'деревня Разбегаево',\n",
              " 'посёлок городского типа Форносово',\n",
              " 'посёлок Песочный',\n",
              " 'посёлок Гаврилово',\n",
              " 'посёлок Поляны',\n",
              " 'деревня Разметелево',\n",
              " 'поселок Цвелодубово',\n",
              " 'посёлок Репино',\n",
              " 'деревня Келози',\n",
              " 'деревня Агалатово',\n",
              " 'поселок станции Вещево',\n",
              " 'поселок Зимитицы',\n",
              " 'городской посёлок Виллози',\n",
              " 'посёлок Победа',\n",
              " 'деревня Старосиверская',\n",
              " 'посёлок городского типа Красный Бор',\n",
              " 'деревня Торосово',\n",
              " 'поселок Стеклянный',\n",
              " 'поселок Лукаши',\n",
              " 'поселок Победа',\n",
              " 'деревня Торошковичи',\n",
              " 'поселок городского типа Лесогорский',\n",
              " 'посёлок Пригородный',\n",
              " 'поселок городского типа Токсово',\n",
              " 'поселок Красная Долина',\n",
              " 'деревня Ваганово',\n",
              " 'село Рождествено',\n",
              " 'деревня Старополье',\n",
              " 'поселок Громово',\n",
              " 'посёлок Петровское',\n",
              " 'поселок Заводской',\n",
              " 'посёлок станции Громово',\n",
              " 'поселок городского типа Ефимовский',\n",
              " 'посёлок Перово',\n",
              " 'поселок Торковичи',\n",
              " 'деревня Заклинье',\n",
              " 'поселок Любань',\n",
              " 'поселок Оредеж',\n",
              " 'поселок Котельский',\n",
              " 'поселок Мельниково',\n",
              " 'поселок Глебычево',\n",
              " 'деревня Аро',\n",
              " 'поселок Лесное',\n",
              " 'поселок Совхозный',\n",
              " 'посёлок Лисий Нос',\n",
              " 'поселок Пушное',\n",
              " 'посёлок Ленинское',\n",
              " 'посёлок Александровская',\n",
              " 'поселок Терволово',\n",
              " 'посёлок Сапёрное',\n",
              " 'деревня Суоранда',\n",
              " 'городской посёлок Советский',\n",
              " 'посёлок Мельниково',\n",
              " 'село Путилово',\n",
              " 'деревня Фалилеево',\n",
              " 'деревня Глинка',\n",
              " 'деревня Бор',\n",
              " 'посёлок Жилгородок',\n",
              " 'деревня Ям-Тесово',\n",
              " 'поселок Серебрянский',\n",
              " 'поселок Петровское',\n",
              " 'посёлок городского типа Вознесенье',\n",
              " 'поселок Починок',\n",
              " 'деревня Тарасово',\n",
              " 'поселок Кингисеппский',\n",
              " 'деревня Старая Пустошь',\n",
              " 'поселок городского типа Назия',\n",
              " 'посёлок Усть-Ижора',\n",
              " 'посёлок городского типа Павлово',\n",
              " 'деревня Выскатка',\n",
              " 'деревня Коркино',\n",
              " 'поселок Тельмана',\n",
              " 'село Паша',\n",
              " 'деревня Мины',\n",
              " 'поселок Ильичёво',\n",
              " 'посёлок станции Свирь',\n",
              " 'поселок Рябово',\n",
              " 'деревня Ненимяки',\n",
              " 'поселок Поляны',\n",
              " 'поселок Барышево',\n",
              " 'поселок станции Приветнинское',\n",
              " 'поселок городского типа Форносово',\n",
              " 'село Старая Ладога',\n",
              " 'деревня Рабитицы',\n",
              " 'поселок Житково',\n",
              " 'посёлок Возрождение',\n",
              " 'деревня Камышовка',\n",
              " 'деревня Старые Бегуницы',\n",
              " 'поселок Старая Малукса',\n",
              " 'городской посёлок Лесогорский',\n",
              " 'посёлок Старая Малукса',\n",
              " 'поселок Красносельское',\n",
              " 'деревня Борисова Грива',\n",
              " 'деревня Пижма',\n",
              " 'поселок Перово',\n",
              " 'деревня Вахнова Кара',\n",
              " 'поселок Дружноселье',\n",
              " 'деревня Большое Рейзино',\n",
              " 'поселок Рабитицы',\n",
              " 'поселок станции Лужайка',\n",
              " 'деревня Большой Сабск',\n",
              " 'деревня Тихковицы',\n",
              " 'деревня Русско',\n",
              " 'село Шум',\n",
              " 'поселок Коробицыно',\n",
              " 'деревня Малая Романовка',\n",
              " 'деревня Большая Пустомержа',\n",
              " 'коттеджный поселок Кивеннапа Север',\n",
              " 'деревня Лупполово',\n",
              " 'поселок Ромашки',\n",
              " 'поселок Пчевжа',\n",
              " 'городской посёлок Свирьстрой',\n",
              " 'коттеджный посёлок Лесное',\n",
              " 'деревня Кисельня',\n",
              " 'посёлок Шугозеро',\n",
              " 'деревня Трубников Бор',\n",
              " 'деревня Терпилицы',\n",
              " 'поселок Калитино',\n",
              " 'деревня Нижняя',\n",
              " 'деревня Раздолье',\n",
              " 'посёлок Высокоключевой',\n",
              " 'садовое товарищество Приладожский',\n",
              " 'посёлок Пансионат Зелёный Бор',\n",
              " 'поселок Кирпичное',\n",
              " 'поселок городского типа Большая Ижора',\n",
              " 'поселок Сумино',\n",
              " 'посёлок Плоское',\n",
              " 'деревня Куровицы',\n",
              " 'деревня Каськово',\n",
              " 'поселок Володарское',\n",
              " 'поселок Пансионат Зелёный Бор',\n",
              " 'садовое товарищество Садко',\n",
              " 'деревня Рапполово',\n",
              " 'деревня Пустынка',\n",
              " 'деревня Снегирёвка',\n",
              " 'деревня Мануйлово',\n",
              " 'деревня Нижние Осельки',\n",
              " 'поселок городского типа Рябово',\n",
              " 'посёлок Левашово',\n",
              " 'поселок Лисий Нос',\n",
              " 'деревня Хапо-Ое',\n",
              " 'деревня Старое Хинколово',\n",
              " 'поселок Возрождение',\n",
              " 'посёлок Сумино',\n",
              " 'деревня Лаврики',\n",
              " 'деревня Шпаньково',\n",
              " 'посёлок Мыза-Ивановка',\n",
              " 'село Никольское',\n",
              " 'поселок Жилпосёлок',\n",
              " 'деревня Кривко',\n",
              " 'поселок Цвылёво',\n",
              " 'деревня Хязельки',\n",
              " 'деревня Пчева',\n",
              " 'поселок Гаврилово',\n",
              " 'деревня Меньково',\n",
              " 'садовое товарищество Рахья',\n",
              " 'посёлок Петро-Славянка',\n",
              " 'посёлок Ропша',\n",
              " 'деревня Чудской Бор',\n",
              " 'поселок станции Корнево',\n",
              " 'деревня Иссад',\n",
              " 'поселок Севастьяново',\n",
              " 'деревня Пикколово',\n",
              " 'садовое товарищество Новая Ропша',\n",
              " 'садоводческое некоммерческое товарищество Лесная Поляна',\n",
              " 'поселок Жилгородок',\n",
              " 'поселок Усть-Луга',\n",
              " 'поселок Коммунары',\n",
              " 'поселок Семиозерье',\n",
              " 'деревня Тойворово',\n",
              " 'деревня Зимитицы',\n",
              " 'деревня Реброво',\n",
              " 'коттеджный поселок Счастье',\n",
              " 'поселок городского типа Кондратьево',\n",
              " 'деревня Курковицы',\n",
              " 'посёлок Коробицыно',\n",
              " 'поселок Тёсово-4',\n",
              " 'посёлок при железнодорожной станции Приветнинское',\n",
              " 'поселок Гладкое',\n",
              " 'посёлок городского типа Рябово',\n",
              " 'деревня Новолисино',\n",
              " 'деревня Ялгино',\n",
              " 'посёлок Форт Красная Горка',\n",
              " 'деревня Сижно',\n",
              " 'деревня Котлы',\n",
              " 'посёлок при железнодорожной станции Вещево',\n",
              " 'деревня Щеглово',\n",
              " 'посёлок Алексеевка',\n",
              " 'посёлок Белоостров',\n",
              " 'деревня Пельгора',\n",
              " 'поселок Каложицы',\n",
              " 'посёлок Платформа 69-й километр',\n",
              " 'поселок Почап',\n",
              " 'поселок Гончарово',\n",
              " 'посёлок Дзержинского']"
            ]
          },
          "metadata": {},
          "execution_count": 23
        }
      ]
    },
    {
      "cell_type": "markdown",
      "source": [
        "Заметим, что Мурино встречается в трёх вариациях, поэтому заменим на \"Мурино\" все возможные варианты"
      ],
      "metadata": {
        "id": "JWluo_yt99Ul"
      }
    },
    {
      "cell_type": "code",
      "source": [
        "df.loc[df['locality_name'].str.contains('Мурино'), 'locality_name'] = 'Мурино'"
      ],
      "metadata": {
        "id": "uE5vQ2Mf8Pvr"
      },
      "execution_count": null,
      "outputs": []
    },
    {
      "cell_type": "markdown",
      "source": [
        "Аналогично Кудрово"
      ],
      "metadata": {
        "id": "McSABBgs-YbE"
      }
    },
    {
      "cell_type": "code",
      "source": [
        "df.loc[df['locality_name'].str.contains('Кудрово'), 'locality_name'] = 'Кудрово'"
      ],
      "metadata": {
        "id": "Fp6zqzdK-ISO"
      },
      "execution_count": null,
      "outputs": []
    },
    {
      "cell_type": "markdown",
      "source": [
        "Также обработали значения поселок/посёлок Бугры"
      ],
      "metadata": {
        "id": "fi42wWww-bMa"
      }
    },
    {
      "cell_type": "code",
      "source": [
        "df.loc[df['locality_name'].str.contains('Бугры'), 'locality_name'] = 'посёлок Бугры'"
      ],
      "metadata": {
        "id": "ICX0sQvB-byY"
      },
      "execution_count": null,
      "outputs": []
    },
    {
      "cell_type": "markdown",
      "source": [
        "Аналогичным образом для остальных"
      ],
      "metadata": {
        "id": "VBFEjQij-6Wr"
      }
    },
    {
      "cell_type": "code",
      "source": [
        "df.loc[df['locality_name'].str.contains('Тельмана'), 'locality_name'] = 'Тельмана'\n",
        "df.loc[df['locality_name'].str.contains('Свердлова'), 'locality_name'] = 'посёлок городского типа Свердлова'\n",
        "df.loc[df['locality_name'].str.contains('Щеглово'), 'locality_name'] = 'Щеглово'\n",
        "df.loc[df['locality_name'].str.contains('Кузьмоловский'), 'locality_name'] = 'посёлок городского типа Кузьмоловский'\n",
        "df.loc[df['locality_name'].str.contains('Рощино'), 'locality_name'] = 'посёлок городского типа Рощино'\n",
        "df.loc[df['locality_name'].str.contains('Новый Свет'), 'locality_name'] = 'посёлок Новый Свет'\n",
        "df.loc[df['locality_name'].str.contains('Большая Ижора'), 'locality_name'] = 'посёлок городского типа Большая Ижора'\n",
        "df.loc[df['locality_name'].str.contains('Токсово'), 'locality_name'] = 'посёлок городского типа Токсово'\n",
        "df.loc[df['locality_name'].str.contains('Гарболово'), 'locality_name'] = 'посёлок Гарболово'\n",
        "df.loc[df['locality_name'].str.contains('Кобралово'), 'locality_name'] = 'посёлок Кобралово'\n",
        "df.loc[df['locality_name'].str.contains('Мга'), 'locality_name'] = 'посёлок городского типа Мга'\n",
        "df.loc[df['locality_name'].str.contains('Назия'), 'locality_name'] = 'посёлок городского типа Назия'\n",
        "df.loc[df['locality_name'].str.contains('Кузьмоловский'), 'locality_name'] = 'посёлок городского типа Кузьмоловский'\n",
        "df.loc[df['locality_name'].str.contains('Вырица'), 'locality_name'] = 'посёлок городского типа Вырица'\n",
        "df.loc[df['locality_name'].str.contains('Павлово'), 'locality_name'] = 'посёлок городского типа Павлово'\n",
        "df.loc[df['locality_name'].str.contains('Советский'), 'locality_name'] = 'посёлок городского типа Советский'\n",
        "df.loc[df['locality_name'].str.contains('Приладожский'), 'locality_name'] = 'посёлок городского типа Приладожский'\n",
        "df.loc[df['locality_name'].str.contains('Любань'), 'locality_name'] = 'посёлок Любань'\n",
        "df.loc[df['locality_name'].str.contains('Фёдоровское'), 'locality_name'] = 'деревня Фёлоровское'\n",
        "df.loc[df['locality_name'].str.contains('Янино-1'), 'locality_name'] = 'городской посёлок Янино-1'\n",
        "df.loc[df['locality_name'].str.contains('Калитино'), 'locality_name'] = 'деревня Калитино'\n",
        "df.loc[df['locality_name'].str.contains('Ильичёво'), 'locality_name'] = 'посёлок Ильичёво'\n",
        "df.loc[df['locality_name'].str.contains('Мичуринское'), 'locality_name'] = 'посёлок Мичуринское'\n",
        "df.loc[df['locality_name'].str.contains('Красный Бор'), 'locality_name'] = 'посёлок городского типа Красный Бор'\n",
        "df.loc[df['locality_name'].str.contains('Кобралово'), 'locality_name'] = 'посёлок Кобралово'\n",
        "df.loc[df['locality_name'].str.contains('Аннино'), 'locality_name'] = 'посёлок Аннино'\n",
        "df.loc[df['locality_name'].str.contains('Стеклянный'), 'locality_name'] = 'посёлок Стеклянный'\n",
        "df.loc[df['locality_name'].str.contains('Лебяжье'), 'locality_name'] = 'посёлок городского типа Лебяжье'\n",
        "df.loc[df['locality_name'].str.contains('Усть-Луга'), 'locality_name'] = 'посёлок Усть-Луга'\n",
        "df.loc[df['locality_name'].str.contains('Терволово'), 'locality_name'] = 'посёлок Терволово'\n",
        "df.loc[df['locality_name'].str.contains('Форносово'), 'locality_name'] = 'посёлок городского типа Форносово'\n",
        "df.loc[df['locality_name'].str.contains('Поляны'), 'locality_name'] = 'посёлок Поляны'\n",
        "df.loc[df['locality_name'].str.contains('Гаврилово'), 'locality_name'] = 'посёлок Гаврилово'\n",
        "df.loc[df['locality_name'].str.contains('Вещево'), 'locality_name'] = 'посёлок станции Вещево'\n",
        "df.loc[df['locality_name'].str.contains('Петровское'), 'locality_name'] = 'посёлок Петровское'\n",
        "df.loc[df['locality_name'].str.contains('Громово'), 'locality_name'] = 'посёлок Громово'\n",
        "df.loc[df['locality_name'].str.contains('Перово'), 'locality_name'] = 'посёлок Перово'\n",
        "df.loc[df['locality_name'].str.contains('Победа'), 'locality_name'] = 'посёлок Победа'\n",
        "df.loc[df['locality_name'].str.contains('Лесогорский'), 'locality_name'] = 'посёлок городского типа Лесогорский'\n",
        "df.loc[df['locality_name'].str.contains('Мельниково'), 'locality_name'] = 'посёлок Мельниково'\n",
        "df.loc[df['locality_name'].str.contains('Зимитицы'), 'locality_name'] = 'посёлок Зимитицы'\n",
        "df.loc[df['locality_name'].str.contains('Свирь'), 'locality_name'] = 'посёлок Свирь'\n",
        "df.loc[df['locality_name'].str.contains('Лесное'), 'locality_name'] = 'посёлок Лесное'\n",
        "df.loc[df['locality_name'].str.contains('Лисий Нос'), 'locality_name'] = 'посёлок Лисий Нос'\n",
        "df.loc[df['locality_name'].str.contains('Жилгородок'), 'locality_name'] = 'посёлок Жилгородок'\n",
        "df.loc[df['locality_name'].str.contains('Рабитицы'), 'locality_name'] = 'посёлок Рабитицы'\n",
        "df.loc[df['locality_name'].str.contains('Возрождение'), 'locality_name'] = 'посёлок Возрождение'\n",
        "df.loc[df['locality_name'].str.contains('Приветнинское'), 'locality_name'] = 'посёлок станции Приветнинское'\n",
        "df.loc[df['locality_name'].str.contains('Старая Малукса'), 'locality_name'] = 'посёлок Старая Малукса'\n",
        "df.loc[df['locality_name'].str.contains('Рябово'), 'locality_name'] = 'посёлок Рябово'\n",
        "df.loc[df['locality_name'].str.contains('Пансионат Зелёный Бор'), 'locality_name'] = 'посёлок Пансионат Зелёный Бор'\n",
        "df.loc[df['locality_name'].str.contains('Коробицыно'), 'locality_name'] = 'посёлок Коробицыно'\n",
        "df.loc[df['locality_name'].str.contains('Сумино'), 'locality_name'] = 'посёлок Сумино'"
      ],
      "metadata": {
        "id": "m42LLa7z-6lk"
      },
      "execution_count": null,
      "outputs": []
    },
    {
      "cell_type": "code",
      "source": [
        "df.info()"
      ],
      "metadata": {
        "colab": {
          "base_uri": "https://localhost:8080/"
        },
        "id": "qVs1Ob9Bbtq2",
        "outputId": "5d3b50fc-4637-4132-ee2c-739f50fb1c5c"
      },
      "execution_count": null,
      "outputs": [
        {
          "output_type": "stream",
          "name": "stdout",
          "text": [
            "<class 'pandas.core.frame.DataFrame'>\n",
            "Int64Index: 23565 entries, 0 to 23698\n",
            "Data columns (total 23 columns):\n",
            " #   Column                Non-Null Count  Dtype         \n",
            "---  ------                --------------  -----         \n",
            " 0   total_images          23565 non-null  int64         \n",
            " 1   last_price            23565 non-null  float64       \n",
            " 2   total_area            23565 non-null  float64       \n",
            " 3   first_day_exposition  23565 non-null  datetime64[ns]\n",
            " 4   rooms                 23565 non-null  int64         \n",
            " 5   ceiling_height        23565 non-null  float64       \n",
            " 6   floors_total          23565 non-null  int64         \n",
            " 7   living_area           21700 non-null  float64       \n",
            " 8   floor                 23565 non-null  int64         \n",
            " 9   is_apartment          23565 non-null  bool          \n",
            " 10  studio                23565 non-null  bool          \n",
            " 11  open_plan             23565 non-null  bool          \n",
            " 12  kitchen_area          21343 non-null  float64       \n",
            " 13  balcony               23565 non-null  int64         \n",
            " 14  locality_name         23565 non-null  object        \n",
            " 15  airports_nearest      18041 non-null  float64       \n",
            " 16  cityCenters_nearest   18064 non-null  float64       \n",
            " 17  parks_around3000      18065 non-null  float64       \n",
            " 18  parks_nearest         8030 non-null   float64       \n",
            " 19  ponds_around3000      18065 non-null  float64       \n",
            " 20  ponds_nearest         9036 non-null   float64       \n",
            " 21  days_exposition       20394 non-null  float64       \n",
            " 22  cost_per_meter        23565 non-null  int64         \n",
            "dtypes: bool(3), datetime64[ns](1), float64(12), int64(6), object(1)\n",
            "memory usage: 3.8+ MB\n"
          ]
        }
      ]
    },
    {
      "cell_type": "markdown",
      "source": [
        "## Обработка аномальных значений"
      ],
      "metadata": {
        "id": "g-JdHPJ9cr4F"
      }
    },
    {
      "cell_type": "code",
      "source": [
        "df['last_price'].value_counts().sort_index()"
      ],
      "metadata": {
        "colab": {
          "base_uri": "https://localhost:8080/"
        },
        "id": "QMTuF2y5dwT9",
        "outputId": "9b39103f-49c8-46b0-a57c-c3edb48579ce"
      },
      "execution_count": null,
      "outputs": [
        {
          "output_type": "execute_result",
          "data": {
            "text/plain": [
              "12190.0        1\n",
              "430000.0       2\n",
              "440000.0       1\n",
              "450000.0       4\n",
              "470000.0       3\n",
              "              ..\n",
              "300000000.0    1\n",
              "330000000.0    1\n",
              "401300000.0    1\n",
              "420000000.0    1\n",
              "763000000.0    1\n",
              "Name: last_price, Length: 2925, dtype: int64"
            ]
          },
          "metadata": {},
          "execution_count": 28
        }
      ]
    },
    {
      "cell_type": "markdown",
      "source": [
        "Так как стоимость квартир в деревнях оценить тяжело, то рассмотрим аномальные значения стоимости в городе Санкт-Петербург"
      ],
      "metadata": {
        "id": "Y4-33v_Pdgk3"
      }
    },
    {
      "cell_type": "code",
      "source": [
        "df.loc[df['locality_name'] == 'Санкт-Петербург', 'last_price'].value_counts().sort_index()"
      ],
      "metadata": {
        "colab": {
          "base_uri": "https://localhost:8080/"
        },
        "id": "4u4zLJ0Gb9Jd",
        "outputId": "034cd4b2-530b-4a5b-a68b-442715ff4307"
      },
      "execution_count": null,
      "outputs": [
        {
          "output_type": "execute_result",
          "data": {
            "text/plain": [
              "12190.0        1\n",
              "1190000.0      1\n",
              "1200000.0      1\n",
              "1350000.0      1\n",
              "1400000.0      1\n",
              "              ..\n",
              "300000000.0    1\n",
              "330000000.0    1\n",
              "401300000.0    1\n",
              "420000000.0    1\n",
              "763000000.0    1\n",
              "Name: last_price, Length: 2358, dtype: int64"
            ]
          },
          "metadata": {},
          "execution_count": 29
        }
      ]
    },
    {
      "cell_type": "markdown",
      "source": [
        "Наблюдаем, что есть квартира площадью 109 квадратных метров в городе Санкт-Петербург за 12 тысяч, вероятнее всего человек ошибся тремя нулями"
      ],
      "metadata": {
        "id": "xRsv0SEKcpfD"
      }
    },
    {
      "cell_type": "code",
      "source": [
        "df.loc[df['last_price'] == 12190, 'last_price'] = 12190000"
      ],
      "metadata": {
        "id": "76I8azscc-Pl"
      },
      "execution_count": null,
      "outputs": []
    },
    {
      "cell_type": "markdown",
      "source": [
        "Теперь уберём все квартиры выше 11.9 миллионов, так как они сильно выбиваются из статистики"
      ],
      "metadata": {
        "id": "SAaPznd6lSdm"
      }
    },
    {
      "cell_type": "code",
      "source": [
        "df = df.loc[df['last_price'] <= 11900000]"
      ],
      "metadata": {
        "id": "lQbxr1hDk51a"
      },
      "execution_count": null,
      "outputs": []
    },
    {
      "cell_type": "markdown",
      "source": [
        "Также уберём все квартиры дешевле 700000"
      ],
      "metadata": {
        "id": "IT2jPjnGl-d_"
      }
    },
    {
      "cell_type": "code",
      "source": [
        "df = df.loc[df['last_price'] >= 700000]"
      ],
      "metadata": {
        "id": "Faq0ylSdlhO_"
      },
      "execution_count": null,
      "outputs": []
    },
    {
      "cell_type": "code",
      "source": [
        "df['ceiling_height'].value_counts().sort_index()"
      ],
      "metadata": {
        "colab": {
          "base_uri": "https://localhost:8080/"
        },
        "id": "KSfnYNBkecdi",
        "outputId": "407bb4d4-cda2-42d9-841c-6b63a89fbd68"
      },
      "execution_count": null,
      "outputs": [
        {
          "output_type": "execute_result",
          "data": {
            "text/plain": [
              "1.00      1\n",
              "1.20      1\n",
              "1.75      1\n",
              "2.00     10\n",
              "2.20      1\n",
              "         ..\n",
              "25.00     7\n",
              "26.00     1\n",
              "27.00     8\n",
              "27.50     1\n",
              "32.00     2\n",
              "Name: ceiling_height, Length: 161, dtype: int64"
            ]
          },
          "metadata": {},
          "execution_count": 33
        }
      ]
    },
    {
      "cell_type": "markdown",
      "source": [
        "Уберём значения меньше 2.25 метров"
      ],
      "metadata": {
        "id": "LX4Ep3b8iYvy"
      }
    },
    {
      "cell_type": "code",
      "source": [
        "df = df.loc[df['ceiling_height'] >= 2.25]"
      ],
      "metadata": {
        "id": "xSdOnmFje9H9"
      },
      "execution_count": null,
      "outputs": []
    },
    {
      "cell_type": "markdown",
      "source": [
        "Уберём квартиру со стометровыми потолками"
      ],
      "metadata": {
        "id": "HmprJa30jE02"
      }
    },
    {
      "cell_type": "code",
      "source": [
        "df = df[df['ceiling_height'] != 100]"
      ],
      "metadata": {
        "id": "zll1isTNiz_X"
      },
      "execution_count": null,
      "outputs": []
    },
    {
      "cell_type": "markdown",
      "source": [
        "Все значения больше 20 разделим на 10"
      ],
      "metadata": {
        "id": "wCg8cbv7icbv"
      }
    },
    {
      "cell_type": "code",
      "source": [
        "df.loc[df['ceiling_height'] >= 20, 'ceiling_height'] = df.loc[df['ceiling_height'] >= 20, 'ceiling_height']/10"
      ],
      "metadata": {
        "id": "nzY91UHNjbpi"
      },
      "execution_count": null,
      "outputs": []
    },
    {
      "cell_type": "markdown",
      "source": [
        "Теперь уберём все квартиры c потолками выше 3.05 метров"
      ],
      "metadata": {
        "id": "mxu0bKK8kxs_"
      }
    },
    {
      "cell_type": "code",
      "source": [
        "df = df.loc[df['ceiling_height'] <= 3.05]"
      ],
      "metadata": {
        "id": "aWZyLHlXkNRp"
      },
      "execution_count": null,
      "outputs": []
    },
    {
      "cell_type": "code",
      "source": [
        "df['rooms'].value_counts()"
      ],
      "metadata": {
        "colab": {
          "base_uri": "https://localhost:8080/"
        },
        "id": "Ct9fboYimKLj",
        "outputId": "e4d8d813-7fe0-413c-bf01-eb6f8cf899b5"
      },
      "execution_count": null,
      "outputs": [
        {
          "output_type": "execute_result",
          "data": {
            "text/plain": [
              "1    7791\n",
              "2    7229\n",
              "3    4644\n",
              "4     652\n",
              "0      74\n",
              "5      50\n",
              "6       7\n",
              "Name: rooms, dtype: int64"
            ]
          },
          "metadata": {},
          "execution_count": 38
        }
      ]
    },
    {
      "cell_type": "markdown",
      "source": [
        "Уберём редкие значения в виде числа комнат выше чем 6"
      ],
      "metadata": {
        "id": "42x3CbGMmaEq"
      }
    },
    {
      "cell_type": "code",
      "source": [
        "df = df.loc[df['rooms'] <= 6]"
      ],
      "metadata": {
        "id": "DC_VGyo0mQZo"
      },
      "execution_count": null,
      "outputs": []
    },
    {
      "cell_type": "code",
      "source": [
        "df.info()"
      ],
      "metadata": {
        "colab": {
          "base_uri": "https://localhost:8080/"
        },
        "id": "wgqaifgMeUJJ",
        "outputId": "94d00124-0cf0-401d-f6c5-ae3290143cd0"
      },
      "execution_count": null,
      "outputs": [
        {
          "output_type": "stream",
          "name": "stdout",
          "text": [
            "<class 'pandas.core.frame.DataFrame'>\n",
            "Int64Index: 20447 entries, 1 to 23698\n",
            "Data columns (total 22 columns):\n",
            " #   Column                Non-Null Count  Dtype         \n",
            "---  ------                --------------  -----         \n",
            " 0   total_images          20447 non-null  int64         \n",
            " 1   last_price            20447 non-null  float64       \n",
            " 2   total_area            20447 non-null  float64       \n",
            " 3   first_day_exposition  20447 non-null  datetime64[ns]\n",
            " 4   rooms                 20447 non-null  int64         \n",
            " 5   ceiling_height        20447 non-null  float64       \n",
            " 6   floors_total          20447 non-null  int64         \n",
            " 7   living_area           18857 non-null  float64       \n",
            " 8   floor                 20447 non-null  int64         \n",
            " 9   is_apartment          20447 non-null  bool          \n",
            " 10  studio                20447 non-null  bool          \n",
            " 11  open_plan             20447 non-null  bool          \n",
            " 12  kitchen_area          20447 non-null  float64       \n",
            " 13  balcony               20447 non-null  int64         \n",
            " 14  locality_name         20447 non-null  object        \n",
            " 15  airports_nearest      15150 non-null  float64       \n",
            " 16  cityCenters_nearest   15162 non-null  float64       \n",
            " 17  parks_around3000      15163 non-null  float64       \n",
            " 18  parks_nearest         6076 non-null   float64       \n",
            " 19  ponds_around3000      15163 non-null  float64       \n",
            " 20  ponds_nearest         7124 non-null   float64       \n",
            " 21  days_exposition       18015 non-null  float64       \n",
            "dtypes: bool(3), datetime64[ns](1), float64(12), int64(5), object(1)\n",
            "memory usage: 3.2+ MB\n"
          ]
        }
      ]
    },
    {
      "cell_type": "code",
      "source": [
        "df['month'] = df['first_day_exposition'].dt.month"
      ],
      "metadata": {
        "id": "myC-I0fDoRwA"
      },
      "execution_count": null,
      "outputs": []
    },
    {
      "cell_type": "code",
      "source": [
        "df['month']"
      ],
      "metadata": {
        "id": "EQal862qtUh-",
        "outputId": "5050927e-b42c-4008-8a3f-7d0fbc73f630",
        "colab": {
          "base_uri": "https://localhost:8080/"
        }
      },
      "execution_count": null,
      "outputs": [
        {
          "output_type": "execute_result",
          "data": {
            "text/plain": [
              "1        12\n",
              "2         8\n",
              "4         6\n",
              "5         9\n",
              "6        11\n",
              "         ..\n",
              "23693     8\n",
              "23695     1\n",
              "23696     2\n",
              "23697     3\n",
              "23698     7\n",
              "Name: month, Length: 20447, dtype: int64"
            ]
          },
          "metadata": {},
          "execution_count": 42
        }
      ]
    },
    {
      "cell_type": "code",
      "source": [
        "df['day'] = df['first_day_exposition'].dt.weekday\n",
        "df['year'] = df['first_day_exposition'].dt.year"
      ],
      "metadata": {
        "id": "ajTts-QY_4mX"
      },
      "execution_count": null,
      "outputs": []
    },
    {
      "cell_type": "code",
      "source": [
        "df['cost_per_meter'] = df['last_price']/df['total_area']"
      ],
      "metadata": {
        "id": "PNgRbR4iqrFX"
      },
      "execution_count": null,
      "outputs": []
    },
    {
      "cell_type": "code",
      "source": [
        "df['cost_per_meter']"
      ],
      "metadata": {
        "colab": {
          "base_uri": "https://localhost:8080/"
        },
        "id": "Ndodx3Yeq0oZ",
        "outputId": "b4c65de0-6c61-45aa-e8f1-40ebdaa30965"
      },
      "execution_count": null,
      "outputs": [
        {
          "output_type": "execute_result",
          "data": {
            "text/plain": [
              "1         82920.792079\n",
              "2         92785.714286\n",
              "4        100000.000000\n",
              "5         95065.789474\n",
              "6         99195.710456\n",
              "             ...      \n",
              "23693     73717.948718\n",
              "23695     52542.372881\n",
              "23696     44091.710758\n",
              "23697    149511.400651\n",
              "23698     41795.665635\n",
              "Name: cost_per_meter, Length: 20447, dtype: float64"
            ]
          },
          "metadata": {},
          "execution_count": 45
        }
      ]
    },
    {
      "cell_type": "markdown",
      "source": [
        "#Проверка гипотез"
      ],
      "metadata": {
        "id": "1w1EuQ524HVW"
      }
    },
    {
      "cell_type": "markdown",
      "source": [
        "Оценим зависимость стоимости квартиры от площади/расстояния до центра города"
      ],
      "metadata": {
        "id": "UCidH9vp40Wy"
      }
    },
    {
      "cell_type": "code",
      "source": [
        "fig, [ax1, ax2] = plt.subplots(1, 2, sharey=True, figsize=(17, 6), gridspec_kw={'wspace': 0})\n",
        "fig.suptitle('Зависимость цены от следующих факторов:')\n",
        "\n",
        "ax1.set_title('Площадь')\n",
        "ax1.set_ylabel('Цена, 10 млн рублей')\n",
        "ax1.set_xlabel('Общая площадь квартиры, кв.м')\n",
        "ax1.text(60, 11000000, \n",
        "         'коэффициент корреляции: ' + str(round(df['last_price'].corr(df['total_area']), 2)), \n",
        "         style='italic')\n",
        "hb1 = ax1.hexbin(df['total_area'], df['last_price'], cmap='BuPu')\n",
        "cb1 = fig.colorbar(hb1, ax=ax1)\n",
        "cb1.set_label('Частота')\n",
        "\n",
        "ax2.set_title('Расстояние до центра города')\n",
        "ax2.set_ylabel('Цена, 10 млн рублей')\n",
        "ax2.set_xlabel('Расстояние до центра города, м')\n",
        "ax2.text(30000, 11000000, \n",
        "         'коэффициент корреляции: ' + str(round(df['last_price'].corr(df['cityCenters_nearest']), 2)), \n",
        "         style='italic')\n",
        "hb2 = ax2.hexbin(df['cityCenters_nearest'], df['last_price'], cmap='BuPu')\n",
        "cb2 = fig.colorbar(hb2, ax=ax2)\n",
        "cb2.set_label('Частота')\n",
        "\n",
        "plt.tight_layout(pad=3)\n",
        "plt.show()"
      ],
      "metadata": {
        "colab": {
          "base_uri": "https://localhost:8080/",
          "height": 315
        },
        "id": "7vgnPBK46uG0",
        "outputId": "586f47a5-7914-450d-ddd8-17ca4023bf0a"
      },
      "execution_count": null,
      "outputs": [
        {
          "output_type": "display_data",
          "data": {
            "text/plain": [
              "<Figure size 1224x432 with 4 Axes>"
            ],
            "image/png": "[encoded data removed]"
          },
          "metadata": {
            "needs_background": "light"
          }
        }
      ]
    },
    {
      "cell_type": "markdown",
      "source": [
        "Определим зависимость стоимости квартир от расстояния от центра"
      ],
      "metadata": {
        "id": "-q97pLrIB1Vn"
      }
    },
    {
      "cell_type": "code",
      "source": [
        "def categorize_centre(row):\n",
        "  if row['cityCenters_nearest'] <= 2000:\n",
        "    return 1\n",
        "  elif 2001 <= row['cityCenters_nearest'] <= 4500:\n",
        "    return 2\n",
        "  elif 4501 <= row['cityCenters_nearest'] <= 8000:\n",
        "    return 3\n",
        "  elif 8001 <= row['cityCenters_nearest'] <= 10000:\n",
        "    return 4\n",
        "  elif 10001 <= row['cityCenters_nearest'] <= 15000:\n",
        "    return 5\n",
        "  elif row['cityCenters_nearest'] > 15000:\n",
        "    return 6"
      ],
      "metadata": {
        "id": "zN-cb7_WAwgp"
      },
      "execution_count": null,
      "outputs": []
    },
    {
      "cell_type": "code",
      "source": [
        "df['cat_centre'] = df.apply(categorize_centre, axis=1)"
      ],
      "metadata": {
        "id": "xMM8C2l9BK2q"
      },
      "execution_count": null,
      "outputs": []
    },
    {
      "cell_type": "code",
      "source": [
        "df2 = df.dropna(subset=['cat_centre', 'cat_floor'])"
      ],
      "metadata": {
        "id": "bMs7LT8nwqEc"
      },
      "execution_count": null,
      "outputs": []
    },
    {
      "cell_type": "code",
      "source": [
        "sns.catplot(x='cat_centre', y=\"last_price\", kind=\"box\", data=df, palette='husl')"
      ],
      "metadata": {
        "colab": {
          "base_uri": "https://localhost:8080/",
          "height": 386
        },
        "id": "d2Wa_sxSBRrF",
        "outputId": "efeab8e9-0089-403e-c4d0-ae59874d5619"
      },
      "execution_count": null,
      "outputs": [
        {
          "output_type": "execute_result",
          "data": {
            "text/plain": [
              "<seaborn.axisgrid.FacetGrid at 0x7f50e61f59d0>"
            ]
          },
          "metadata": {},
          "execution_count": 112
        },
        {
          "output_type": "display_data",
          "data": {
            "text/plain": [
              "<Figure size 360x360 with 1 Axes>"
            ],
            "image/png": "[encoded data removed]"
          },
          "metadata": {
            "needs_background": "light"
          }
        }
      ]
    },
    {
      "cell_type": "markdown",
      "source": [
        "Проверяем гипотезу, что квартиры с большим числом комнат стоят дороже"
      ],
      "metadata": {
        "id": "_V2BvzCWi0_F"
      }
    },
    {
      "cell_type": "markdown",
      "source": [
        "Построим график зависимости стоимости квартиры от числа комнат.\n",
        "\n"
      ],
      "metadata": {
        "id": "vMci12Qq8QQ1"
      }
    },
    {
      "cell_type": "code",
      "source": [
        "sns.catplot(x='rooms', y=\"last_price\", kind=\"box\", data=df, palette='husl')"
      ],
      "metadata": {
        "colab": {
          "base_uri": "https://localhost:8080/",
          "height": 386
        },
        "id": "E24vgOss7CIE",
        "outputId": "5feea504-1bbb-410f-d28c-fcdd449ddc6e"
      },
      "execution_count": null,
      "outputs": [
        {
          "output_type": "execute_result",
          "data": {
            "text/plain": [
              "<seaborn.axisgrid.FacetGrid at 0x7f50e91c8690>"
            ]
          },
          "metadata": {},
          "execution_count": 50
        },
        {
          "output_type": "display_data",
          "data": {
            "text/plain": [
              "<Figure size 360x360 with 1 Axes>"
            ],
            "image/png": "[encoded data removed]"
          },
          "metadata": {
            "needs_background": "light"
          }
        }
      ]
    },
    {
      "cell_type": "markdown",
      "source": [
        "Для оценки зависимости рыночной стоимости жилья от его площади напишем функцию, разбивающую жильё на категории"
      ],
      "metadata": {
        "id": "_p-6-din9-t7"
      }
    },
    {
      "cell_type": "code",
      "source": [
        "def categorize_area(row):\n",
        "  if row['living_area'] <= 30:\n",
        "    return 'A'\n",
        "  elif 31 <= row['living_area'] <= 50:\n",
        "    return 'B'\n",
        "  elif 51 <= row['living_area'] <= 75:\n",
        "    return 'C'\n",
        "  elif row['living_area'] > 75:\n",
        "    return 'D'"
      ],
      "metadata": {
        "id": "k4VXOhUR8mVy"
      },
      "execution_count": null,
      "outputs": []
    },
    {
      "cell_type": "markdown",
      "source": [
        "Применим функцию к исходному датасету"
      ],
      "metadata": {
        "id": "czVl_OGg-v2F"
      }
    },
    {
      "cell_type": "code",
      "source": [
        "df['cat_area'] = df.apply(categorize_area, axis=1)"
      ],
      "metadata": {
        "id": "GX6mrPWM9QWY"
      },
      "execution_count": null,
      "outputs": []
    },
    {
      "cell_type": "code",
      "source": [
        "sns.catplot(x='cat_area', y=\"last_price\", kind=\"box\", data=df, palette='husl')"
      ],
      "metadata": {
        "colab": {
          "base_uri": "https://localhost:8080/",
          "height": 386
        },
        "id": "5z37jLYw8WOU",
        "outputId": "8d25d30d-bafb-49ca-a576-50665509eb8e"
      },
      "execution_count": null,
      "outputs": [
        {
          "output_type": "execute_result",
          "data": {
            "text/plain": [
              "<seaborn.axisgrid.FacetGrid at 0x7f50e6f9fd10>"
            ]
          },
          "metadata": {},
          "execution_count": 53
        },
        {
          "output_type": "display_data",
          "data": {
            "text/plain": [
              "<Figure size 360x360 with 1 Axes>"
            ],
            "image/png": "[encoded data removed]"
          },
          "metadata": {
            "needs_background": "light"
          }
        }
      ]
    },
    {
      "cell_type": "markdown",
      "source": [
        "Заметим, что отсутствует зависимость между любыми показателями даты от конечной стоимости жилья"
      ],
      "metadata": {
        "id": "1Iwa8_bSAOJf"
      }
    },
    {
      "cell_type": "code",
      "source": [
        "sns.catplot(x='month', y=\"last_price\", kind=\"box\", data=df, palette='husl')"
      ],
      "metadata": {
        "colab": {
          "base_uri": "https://localhost:8080/",
          "height": 386
        },
        "id": "eI6RqkWoAFTk",
        "outputId": "7301895f-6728-41be-97cb-0ed819e761bf"
      },
      "execution_count": null,
      "outputs": [
        {
          "output_type": "execute_result",
          "data": {
            "text/plain": [
              "<seaborn.axisgrid.FacetGrid at 0x7f50e6c84110>"
            ]
          },
          "metadata": {},
          "execution_count": 54
        },
        {
          "output_type": "display_data",
          "data": {
            "text/plain": [
              "<Figure size 360x360 with 1 Axes>"
            ],
            "image/png": "[encoded data removed]"
          },
          "metadata": {
            "needs_background": "light"
          }
        }
      ]
    },
    {
      "cell_type": "code",
      "source": [
        "sns.catplot(x='day', y=\"last_price\", kind=\"box\", data=df, palette='husl')"
      ],
      "metadata": {
        "colab": {
          "base_uri": "https://localhost:8080/",
          "height": 386
        },
        "id": "jN_HUcfyAHCr",
        "outputId": "3b958698-a956-4a7e-9900-8e20b10b42a5"
      },
      "execution_count": null,
      "outputs": [
        {
          "output_type": "execute_result",
          "data": {
            "text/plain": [
              "<seaborn.axisgrid.FacetGrid at 0x7f50e6e8e790>"
            ]
          },
          "metadata": {},
          "execution_count": 55
        },
        {
          "output_type": "display_data",
          "data": {
            "text/plain": [
              "<Figure size 360x360 with 1 Axes>"
            ],
            "image/png": "[encoded data removed]"
          },
          "metadata": {
            "needs_background": "light"
          }
        }
      ]
    },
    {
      "cell_type": "code",
      "source": [
        "sns.catplot(x='year', y=\"last_price\", kind=\"box\", data=df, palette='husl')"
      ],
      "metadata": {
        "colab": {
          "base_uri": "https://localhost:8080/",
          "height": 386
        },
        "id": "lEoiXqeQAJMB",
        "outputId": "a181545e-f083-45ab-f61d-a7f92c8436b0"
      },
      "execution_count": null,
      "outputs": [
        {
          "output_type": "execute_result",
          "data": {
            "text/plain": [
              "<seaborn.axisgrid.FacetGrid at 0x7f50e6e7b1d0>"
            ]
          },
          "metadata": {},
          "execution_count": 56
        },
        {
          "output_type": "display_data",
          "data": {
            "text/plain": [
              "<Figure size 360x360 with 1 Axes>"
            ],
            "image/png": "[encoded data removed]"
          },
          "metadata": {
            "needs_background": "light"
          }
        }
      ]
    },
    {
      "cell_type": "markdown",
      "source": [
        "Также явным образом можно оценить, что наличие балкона не является влияющим факторм на конечную стоимость квартиры"
      ],
      "metadata": {
        "id": "N-gGclxDAdiE"
      }
    },
    {
      "cell_type": "code",
      "source": [
        "sns.catplot(x='balcony', y=\"last_price\", kind=\"box\", data=df, palette='husl')"
      ],
      "metadata": {
        "colab": {
          "base_uri": "https://localhost:8080/",
          "height": 386
        },
        "id": "vmJ116bXAXDx",
        "outputId": "d64fdfca-6c2c-4653-c801-feb6fa5b951e"
      },
      "execution_count": null,
      "outputs": [
        {
          "output_type": "execute_result",
          "data": {
            "text/plain": [
              "<seaborn.axisgrid.FacetGrid at 0x7f50e76762d0>"
            ]
          },
          "metadata": {},
          "execution_count": 57
        },
        {
          "output_type": "display_data",
          "data": {
            "text/plain": [
              "<Figure size 360x360 with 1 Axes>"
            ],
            "image/png": "[encoded data removed]"
          },
          "metadata": {
            "needs_background": "light"
          }
        }
      ]
    },
    {
      "cell_type": "markdown",
      "source": [
        "Разобьём квартиры по признаку высоты этажа относительно общего числа этажей"
      ],
      "metadata": {
        "id": "3R-UDb88PyoO"
      }
    },
    {
      "cell_type": "code",
      "source": [
        "df['floor_percent'] = (df['floor'] / df['floors_total']) * 100"
      ],
      "metadata": {
        "id": "U_2JFVZMhNCh"
      },
      "execution_count": null,
      "outputs": []
    },
    {
      "cell_type": "code",
      "source": [
        "def categorize_floor(row):\n",
        "  if row['floor'] == 1:\n",
        "    return 1\n",
        "  elif row['floor_percent'] <= 25:\n",
        "    return 2\n",
        "  elif 26 < row['floor_percent'] <= 50:\n",
        "    return 3\n",
        "  elif 51 < row['floor_percent'] <= 75:\n",
        "    return 4\n",
        "  elif 76 < row['floor_percent'] <= 99:\n",
        "    return 5\n",
        "  elif row['floor_percent'] == 100:\n",
        "    return 6"
      ],
      "metadata": {
        "id": "s9mNzhUjLPkA"
      },
      "execution_count": null,
      "outputs": []
    },
    {
      "cell_type": "code",
      "source": [
        "df['cat_floor'] = df.apply(categorize_floor, axis=1)"
      ],
      "metadata": {
        "id": "lfKhXWuoNQ6A"
      },
      "execution_count": null,
      "outputs": []
    },
    {
      "cell_type": "markdown",
      "source": [
        "Первый и последний этажи категории 1 и 6 соответственно"
      ],
      "metadata": {
        "id": "kqmKUlomP5yP"
      }
    },
    {
      "cell_type": "code",
      "source": [
        "sns.catplot(x='cat_floor', y=\"last_price\", kind=\"box\", data=df, palette='husl')"
      ],
      "metadata": {
        "colab": {
          "base_uri": "https://localhost:8080/",
          "height": 386
        },
        "id": "1uONJP1LLDce",
        "outputId": "20a81af1-eed3-4070-cd66-bdc5cb2fc0f9"
      },
      "execution_count": null,
      "outputs": [
        {
          "output_type": "execute_result",
          "data": {
            "text/plain": [
              "<seaborn.axisgrid.FacetGrid at 0x7f50d87ca050>"
            ]
          },
          "metadata": {},
          "execution_count": 128
        },
        {
          "output_type": "display_data",
          "data": {
            "text/plain": [
              "<Figure size 360x360 with 1 Axes>"
            ],
            "image/png": "[encoded data removed]"
          },
          "metadata": {
            "needs_background": "light"
          }
        }
      ]
    },
    {
      "cell_type": "markdown",
      "source": [
        "# Моделирование\n"
      ],
      "metadata": {
        "id": "2-HTvNRmhvmU"
      }
    },
    {
      "cell_type": "code",
      "source": [
        "df.columns"
      ],
      "metadata": {
        "colab": {
          "base_uri": "https://localhost:8080/"
        },
        "id": "lECRX-xSkE-f",
        "outputId": "1f788f25-0849-4103-d59f-b09b30f17dd4"
      },
      "execution_count": null,
      "outputs": [
        {
          "output_type": "execute_result",
          "data": {
            "text/plain": [
              "Index(['total_images', 'last_price', 'total_area', 'first_day_exposition',\n",
              "       'rooms', 'ceiling_height', 'floors_total', 'living_area', 'floor',\n",
              "       'is_apartment', 'studio', 'open_plan', 'kitchen_area', 'balcony',\n",
              "       'locality_name', 'airports_nearest', 'cityCenters_nearest',\n",
              "       'parks_around3000', 'parks_nearest', 'ponds_around3000',\n",
              "       'ponds_nearest', 'days_exposition', 'month', 'day', 'year',\n",
              "       'cost_per_meter', 'cat_centre', 'cat_area', 'floor_percent',\n",
              "       'cat_floor'],\n",
              "      dtype='object')"
            ]
          },
          "metadata": {},
          "execution_count": 72
        }
      ]
    },
    {
      "cell_type": "markdown",
      "source": [
        "Зададим признаки по общей площади и числу комнат"
      ],
      "metadata": {
        "id": "aGPhgURVkUX0"
      }
    },
    {
      "cell_type": "code",
      "source": [
        "X, y = df[['total_area']], df['rooms'] # задаем признаки (поле total_area) и объекты (поле rooms)"
      ],
      "metadata": {
        "id": "bnA_qyT3ibSN"
      },
      "execution_count": null,
      "outputs": []
    },
    {
      "cell_type": "markdown",
      "source": [
        "Импортируем модуль для разделения выборки на данные для обучения и тестирования"
      ],
      "metadata": {
        "id": "02wBGdaMkZJM"
      }
    },
    {
      "cell_type": "code",
      "source": [
        "from sklearn.model_selection import train_test_split"
      ],
      "metadata": {
        "id": "TEHyo0vQkScD"
      },
      "execution_count": null,
      "outputs": []
    },
    {
      "cell_type": "markdown",
      "source": [
        "Разделяем выборку на данные для обучения (80%) и тестирования (20%)"
      ],
      "metadata": {
        "id": "MND5dwwXkkBe"
      }
    },
    {
      "cell_type": "code",
      "source": [
        "X_train, X_test, y_train, y_test = train_test_split(X, y, test_size = 0.2) "
      ],
      "metadata": {
        "id": "-HBdqIe3kTJL"
      },
      "execution_count": null,
      "outputs": []
    },
    {
      "cell_type": "markdown",
      "source": [
        "При помощи модуля LogisticRegression создадим модель и обучим её"
      ],
      "metadata": {
        "id": "zthGwk-RlBrm"
      }
    },
    {
      "cell_type": "code",
      "source": [
        "from sklearn.linear_model import LogisticRegression\n",
        "model = LogisticRegression()\n",
        "y_train = y_train.astype('int64')\n",
        "y_test = y_test.astype('int64')\n",
        "model.fit(X_train, y_train)"
      ],
      "metadata": {
        "colab": {
          "base_uri": "https://localhost:8080/"
        },
        "id": "E3W25a-8krg0",
        "outputId": "78510a94-9b9d-4db2-dbe7-ce4a201a427d"
      },
      "execution_count": null,
      "outputs": [
        {
          "output_type": "stream",
          "name": "stderr",
          "text": [
            "/usr/local/lib/python3.7/dist-packages/sklearn/linear_model/_logistic.py:818: ConvergenceWarning: lbfgs failed to converge (status=1):\n",
            "STOP: TOTAL NO. of ITERATIONS REACHED LIMIT.\n",
            "\n",
            "Increase the number of iterations (max_iter) or scale the data as shown in:\n",
            "    https://scikit-learn.org/stable/modules/preprocessing.html\n",
            "Please also refer to the documentation for alternative solver options:\n",
            "    https://scikit-learn.org/stable/modules/linear_model.html#logistic-regression\n",
            "  extra_warning_msg=_LOGISTIC_SOLVER_CONVERGENCE_MSG,\n"
          ]
        },
        {
          "output_type": "execute_result",
          "data": {
            "text/plain": [
              "LogisticRegression()"
            ]
          },
          "metadata": {},
          "execution_count": 76
        }
      ]
    },
    {
      "cell_type": "markdown",
      "source": [
        "Далее оценим качество модели"
      ],
      "metadata": {
        "id": "Lcyj4cYQlTXJ"
      }
    },
    {
      "cell_type": "code",
      "source": [
        "from sklearn.metrics import accuracy_score\n",
        "accuracy_score(y_train, model.predict(X_train)) "
      ],
      "metadata": {
        "colab": {
          "base_uri": "https://localhost:8080/"
        },
        "id": "LcxNBpUUlXWF",
        "outputId": "9faa9e5e-419a-4481-d011-b85612388887"
      },
      "execution_count": null,
      "outputs": [
        {
          "output_type": "execute_result",
          "data": {
            "text/plain": [
              "0.7106437610808828"
            ]
          },
          "metadata": {},
          "execution_count": 77
        }
      ]
    },
    {
      "cell_type": "code",
      "source": [
        "accuracy_score(y_test, model.predict(X_test)) "
      ],
      "metadata": {
        "colab": {
          "base_uri": "https://localhost:8080/"
        },
        "id": "dZJxzYRElz0M",
        "outputId": "7d080cf0-5ac4-4dcf-8c94-43f7d2e9e53b"
      },
      "execution_count": null,
      "outputs": [
        {
          "output_type": "execute_result",
          "data": {
            "text/plain": [
              "0.7080684596577017"
            ]
          },
          "metadata": {},
          "execution_count": 78
        }
      ]
    },
    {
      "cell_type": "code",
      "source": [
        "from sklearn.linear_model import LinearRegression"
      ],
      "metadata": {
        "id": "YIUecqC2wi8L"
      },
      "execution_count": null,
      "outputs": []
    },
    {
      "cell_type": "markdown",
      "source": [
        "Обучим модель, способную определять стоимость квартиры по её отдалённости от центра города, этажности, числу комнат и общей площади"
      ],
      "metadata": {
        "id": "7TAmGL9B5qwX"
      }
    },
    {
      "cell_type": "code",
      "source": [
        "X_df = df2[['cat_centre', 'cat_floor', 'rooms', 'total_area']]\n",
        "y_df = df2['last_price']\n",
        "X_train_df, X_test_df, y_train_df, y_test_df = train_test_split(X_df, y_df, test_size = 0.2)\n",
        "model_df = LinearRegression()\n",
        "model_df.fit(X_train_df, y_train_df)\n",
        "y_pred_df = model_df.predict(X_test_df) "
      ],
      "metadata": {
        "id": "vFbZEsQGvxjE"
      },
      "execution_count": null,
      "outputs": []
    },
    {
      "cell_type": "markdown",
      "source": [
        "Сформируем pandas dataframe, в который добавим тестовые данные, по которым будет предсказана примерная рыночная стоимость жилья"
      ],
      "metadata": {
        "id": "v5KMs2sj51AG"
      }
    },
    {
      "cell_type": "code",
      "source": [
        "d = {'cat_centre': [1, 1, 2, 2, 3, 3, 4, 4, 5, 5, 6, 6], \n",
        "     'cat_floor': [1, 6, 3, 5, 1, 6, 2, 4, 3, 2, 5, 1], \n",
        "     'rooms': [2, 2, 4, 1, 2, 2, 3, 2, 1, 2, 4, 2], \n",
        "     'total_area': [50, 64, 92, 31, 46, 42, 58, 50, 29, 44, 100, 40]}\n",
        "check_model = pd.DataFrame(data=d)\n",
        "X_df_price = check_model[['cat_centre', 'cat_floor', 'rooms', 'total_area']]\n",
        "check_model['last_price'] = model_df.predict(X_df_price)"
      ],
      "metadata": {
        "id": "Jtk_USnPyH7N"
      },
      "execution_count": null,
      "outputs": []
    },
    {
      "cell_type": "code",
      "source": [
        "check_model['last_price'] = check_model['last_price'].astype(int)"
      ],
      "metadata": {
        "id": "3a8LZnkz5BAW"
      },
      "execution_count": null,
      "outputs": []
    },
    {
      "cell_type": "code",
      "source": [
        "check_model"
      ],
      "metadata": {
        "colab": {
          "base_uri": "https://localhost:8080/",
          "height": 426
        },
        "id": "J1EMsW295U3w",
        "outputId": "465a2ab2-9c8c-47cc-edb3-b3b9df77aa8c"
      },
      "execution_count": null,
      "outputs": [
        {
          "output_type": "execute_result",
          "data": {
            "text/plain": [
              "    cat_centre  cat_floor  rooms  total_area  last_price\n",
              "0            1          1      2          50     6601839\n",
              "1            1          6      2          64     8194039\n",
              "2            2          3      4          92     9346651\n",
              "3            2          5      1          31     4945801\n",
              "4            3          1      2          46     5339186\n",
              "5            3          6      2          42     5073702\n",
              "6            4          2      3          58     5570292\n",
              "7            4          4      2          50     5415489\n",
              "8            5          3      1          29     3405707\n",
              "9            5          2      2          44     4312410\n",
              "10           6          5      4         100     8531556\n",
              "11           6          1      2          40     3445207"
            ],
            "text/html": [
              "\n",
              "  <div id=\"df-4d698e9a-82ed-42fd-8123-f210ed1a23c9\">\n",
              "    <div class=\"colab-df-container\">\n",
              "      <div>\n",
              "<style scoped>\n",
              "    .dataframe tbody tr th:only-of-type {\n",
              "        vertical-align: middle;\n",
              "    }\n",
              "\n",
              "    .dataframe tbody tr th {\n",
              "        vertical-align: top;\n",
              "    }\n",
              "\n",
              "    .dataframe thead th {\n",
              "        text-align: right;\n",
              "    }\n",
              "</style>\n",
              "<table border=\"1\" class=\"dataframe\">\n",
              "  <thead>\n",
              "    <tr style=\"text-align: right;\">\n",
              "      <th></th>\n",
              "      <th>cat_centre</th>\n",
              "      <th>cat_floor</th>\n",
              "      <th>rooms</th>\n",
              "      <th>total_area</th>\n",
              "      <th>last_price</th>\n",
              "    </tr>\n",
              "  </thead>\n",
              "  <tbody>\n",
              "    <tr>\n",
              "      <th>0</th>\n",
              "      <td>1</td>\n",
              "      <td>1</td>\n",
              "      <td>2</td>\n",
              "      <td>50</td>\n",
              "      <td>6601839</td>\n",
              "    </tr>\n",
              "    <tr>\n",
              "      <th>1</th>\n",
              "      <td>1</td>\n",
              "      <td>6</td>\n",
              "      <td>2</td>\n",
              "      <td>64</td>\n",
              "      <td>8194039</td>\n",
              "    </tr>\n",
              "    <tr>\n",
              "      <th>2</th>\n",
              "      <td>2</td>\n",
              "      <td>3</td>\n",
              "      <td>4</td>\n",
              "      <td>92</td>\n",
              "      <td>9346651</td>\n",
              "    </tr>\n",
              "    <tr>\n",
              "      <th>3</th>\n",
              "      <td>2</td>\n",
              "      <td>5</td>\n",
              "      <td>1</td>\n",
              "      <td>31</td>\n",
              "      <td>4945801</td>\n",
              "    </tr>\n",
              "    <tr>\n",
              "      <th>4</th>\n",
              "      <td>3</td>\n",
              "      <td>1</td>\n",
              "      <td>2</td>\n",
              "      <td>46</td>\n",
              "      <td>5339186</td>\n",
              "    </tr>\n",
              "    <tr>\n",
              "      <th>5</th>\n",
              "      <td>3</td>\n",
              "      <td>6</td>\n",
              "      <td>2</td>\n",
              "      <td>42</td>\n",
              "      <td>5073702</td>\n",
              "    </tr>\n",
              "    <tr>\n",
              "      <th>6</th>\n",
              "      <td>4</td>\n",
              "      <td>2</td>\n",
              "      <td>3</td>\n",
              "      <td>58</td>\n",
              "      <td>5570292</td>\n",
              "    </tr>\n",
              "    <tr>\n",
              "      <th>7</th>\n",
              "      <td>4</td>\n",
              "      <td>4</td>\n",
              "      <td>2</td>\n",
              "      <td>50</td>\n",
              "      <td>5415489</td>\n",
              "    </tr>\n",
              "    <tr>\n",
              "      <th>8</th>\n",
              "      <td>5</td>\n",
              "      <td>3</td>\n",
              "      <td>1</td>\n",
              "      <td>29</td>\n",
              "      <td>3405707</td>\n",
              "    </tr>\n",
              "    <tr>\n",
              "      <th>9</th>\n",
              "      <td>5</td>\n",
              "      <td>2</td>\n",
              "      <td>2</td>\n",
              "      <td>44</td>\n",
              "      <td>4312410</td>\n",
              "    </tr>\n",
              "    <tr>\n",
              "      <th>10</th>\n",
              "      <td>6</td>\n",
              "      <td>5</td>\n",
              "      <td>4</td>\n",
              "      <td>100</td>\n",
              "      <td>8531556</td>\n",
              "    </tr>\n",
              "    <tr>\n",
              "      <th>11</th>\n",
              "      <td>6</td>\n",
              "      <td>1</td>\n",
              "      <td>2</td>\n",
              "      <td>40</td>\n",
              "      <td>3445207</td>\n",
              "    </tr>\n",
              "  </tbody>\n",
              "</table>\n",
              "</div>\n",
              "      <button class=\"colab-df-convert\" onclick=\"convertToInteractive('df-4d698e9a-82ed-42fd-8123-f210ed1a23c9')\"\n",
              "              title=\"Convert this dataframe to an interactive table.\"\n",
              "              style=\"display:none;\">\n",
              "        \n",
              "  <svg xmlns=\"http://www.w3.org/2000/svg\" height=\"24px\"viewBox=\"0 0 24 24\"\n",
              "       width=\"24px\">\n",
              "    <path d=\"M0 0h24v24H0V0z\" fill=\"none\"/>\n",
              "    <path d=\"M18.56 5.44l.94 2.06.94-2.06 2.06-.94-2.06-.94-.94-2.06-.94 2.06-2.06.94zm-11 1L8.5 8.5l.94-2.06 2.06-.94-2.06-.94L8.5 2.5l-.94 2.06-2.06.94zm10 10l.94 2.06.94-2.06 2.06-.94-2.06-.94-.94-2.06-.94 2.06-2.06.94z\"/><path d=\"M17.41 7.96l-1.37-1.37c-.4-.4-.92-.59-1.43-.59-.52 0-1.04.2-1.43.59L10.3 9.45l-7.72 7.72c-.78.78-.78 2.05 0 2.83L4 21.41c.39.39.9.59 1.41.59.51 0 1.02-.2 1.41-.59l7.78-7.78 2.81-2.81c.8-.78.8-2.07 0-2.86zM5.41 20L4 18.59l7.72-7.72 1.47 1.35L5.41 20z\"/>\n",
              "  </svg>\n",
              "      </button>\n",
              "      \n",
              "  <style>\n",
              "    .colab-df-container {\n",
              "      display:flex;\n",
              "      flex-wrap:wrap;\n",
              "      gap: 12px;\n",
              "    }\n",
              "\n",
              "    .colab-df-convert {\n",
              "      background-color: #E8F0FE;\n",
              "      border: none;\n",
              "      border-radius: 50%;\n",
              "      cursor: pointer;\n",
              "      display: none;\n",
              "      fill: #1967D2;\n",
              "      height: 32px;\n",
              "      padding: 0 0 0 0;\n",
              "      width: 32px;\n",
              "    }\n",
              "\n",
              "    .colab-df-convert:hover {\n",
              "      background-color: #E2EBFA;\n",
              "      box-shadow: 0px 1px 2px rgba(60, 64, 67, 0.3), 0px 1px 3px 1px rgba(60, 64, 67, 0.15);\n",
              "      fill: #174EA6;\n",
              "    }\n",
              "\n",
              "    [theme=dark] .colab-df-convert {\n",
              "      background-color: #3B4455;\n",
              "      fill: #D2E3FC;\n",
              "    }\n",
              "\n",
              "    [theme=dark] .colab-df-convert:hover {\n",
              "      background-color: #434B5C;\n",
              "      box-shadow: 0px 1px 3px 1px rgba(0, 0, 0, 0.15);\n",
              "      filter: drop-shadow(0px 1px 2px rgba(0, 0, 0, 0.3));\n",
              "      fill: #FFFFFF;\n",
              "    }\n",
              "  </style>\n",
              "\n",
              "      <script>\n",
              "        const buttonEl =\n",
              "          document.querySelector('#df-4d698e9a-82ed-42fd-8123-f210ed1a23c9 button.colab-df-convert');\n",
              "        buttonEl.style.display =\n",
              "          google.colab.kernel.accessAllowed ? 'block' : 'none';\n",
              "\n",
              "        async function convertToInteractive(key) {\n",
              "          const element = document.querySelector('#df-4d698e9a-82ed-42fd-8123-f210ed1a23c9');\n",
              "          const dataTable =\n",
              "            await google.colab.kernel.invokeFunction('convertToInteractive',\n",
              "                                                     [key], {});\n",
              "          if (!dataTable) return;\n",
              "\n",
              "          const docLinkHtml = 'Like what you see? Visit the ' +\n",
              "            '<a target=\"_blank\" href=https://colab.research.google.com/notebooks/data_table.ipynb>data table notebook</a>'\n",
              "            + ' to learn more about interactive tables.';\n",
              "          element.innerHTML = '';\n",
              "          dataTable['output_type'] = 'display_data';\n",
              "          await google.colab.output.renderOutput(dataTable, element);\n",
              "          const docLink = document.createElement('div');\n",
              "          docLink.innerHTML = docLinkHtml;\n",
              "          element.appendChild(docLink);\n",
              "        }\n",
              "      </script>\n",
              "    </div>\n",
              "  </div>\n",
              "  "
            ]
          },
          "metadata": {},
          "execution_count": 140
        }
      ]
    },
    {
      "cell_type": "markdown",
      "source": [
        "**В результате проведённого исследования была сформирована модель, позволяющая по её первичным признакам определить то, какова будет её рыночная стоимость. Данная модель позволяет автоматизировать процесс формирования рыночной стоимости недвижимости, а также выявлять наиболее недооценённое жилье на рынке.**"
      ],
      "metadata": {
        "id": "mHh1mj5i6-Vu"
      }
    }
  ]
}